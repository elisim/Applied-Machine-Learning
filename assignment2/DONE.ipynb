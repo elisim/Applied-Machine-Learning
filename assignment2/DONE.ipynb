{
 "cells": [
  {
   "cell_type": "code",
   "execution_count": 3,
   "metadata": {},
   "outputs": [],
   "source": [
    "import pandas as pd\n",
    "import numpy as np\n",
    "from sklearn.impute import SimpleImputer\n",
    "from sklearn.model_selection import train_test_split\n",
    "from imblearn.over_sampling import SMOTE\n",
    "from sklearn.metrics import roc_auc_score\n",
    "from sklearn.ensemble import RandomForestClassifier\n",
    "from xgboost import XGBClassifier\n",
    "from sklearn.preprocessing import StandardScaler\n",
    "from imblearn.pipeline import Pipeline\n",
    "from sklearn.model_selection import GridSearchCV, StratifiedKFold\n",
    "from utils import *\n",
    "from imblearn.under_sampling import RandomUnderSampler\n",
    "from hyperopt import hp, fmin, tpe, STATUS_OK, Trials\n",
    "from sklearn.externals import joblib\n",
    "from sklearn.ensemble import VotingClassifier\n",
    "# from fancyimpute import KNN\n",
    "\n",
    "\n",
    "import warnings\n",
    "warnings.filterwarnings('ignore')"
   ]
  },
  {
   "cell_type": "code",
   "execution_count": 4,
   "metadata": {},
   "outputs": [
    {
     "name": "stdout",
     "output_type": "stream",
     "text": [
      "train.shape without missing rows = (30451, 51)\n",
      "class count:\n",
      " 0.0    29949\n",
      "1.0      502\n",
      "Name: Class, dtype: int64\n",
      "Wall time: 335 ms\n"
     ]
    }
   ],
   "source": [
    "%%time\n",
    "##### load & clean data\n",
    "train, test = load_data()\n",
    "train = train.dropna(axis=0, how='all') # remove missing rows\n",
    "y_all = train.Class\n",
    "train = train.drop(columns='Class')\n",
    "\n",
    "print(\"train.shape without missing rows =\", train.shape)\n",
    "print(\"class count:\\n\", y_all.value_counts())"
   ]
  },
  {
   "cell_type": "code",
   "execution_count": 5,
   "metadata": {},
   "outputs": [],
   "source": [
    "##### add here new steps to preprocess\n",
    "preprocessing = Pipeline([\n",
    "                ('scaler', StandardScaler()),\n",
    "#                 ('knn-imputation', KNN(k=5)) \n",
    "                ])\n",
    "\n",
    "X_all, X_test = preprocess_data(train, test, preprocessing)\n",
    "X_train, X_val, y_train, y_val = train_test_split(X_all, y_all, test_size = 0.2, stratify=y_all, random_state=42)"
   ]
  },
  {
   "cell_type": "code",
   "execution_count": 6,
   "metadata": {},
   "outputs": [],
   "source": [
    "xg = XGBClassifier(n_estimators=40, \n",
    "                   tree_method='gpu_exact', \n",
    "                   predictor='gpu_predictor', \n",
    "                   random_state=52, \n",
    "                   scale_pos_weight=1.2,\n",
    "                   max_depth=4, \n",
    "                   n_jobs=-1)\n",
    "\n",
    "# evaluation =  Pipeline([\n",
    "#                 ('smote', SMOTE(random_state=42, ratio=1, n_jobs=-1, k_neighbors=3)),\n",
    "#                 ('random_oversample', RandomOverSampler()),\n",
    "#                 ('xg',xg)\n",
    "#                 ])"
   ]
  },
  {
   "cell_type": "code",
   "execution_count": 8,
   "metadata": {},
   "outputs": [],
   "source": [
    "### cross validate\n",
    "xg_hyperparams = {\n",
    "    'n_estimators': hp.choice('n_estimators', np.arange(30, 300, 10, dtype=int)),\n",
    "    'learning_rate': hp.uniform('learning_rate', 0.1,0.7),\n",
    "    'colsample_bytree': hp.uniform('colsample_bytree', 0.7, 1),\n",
    "    'max_depth': hp.choice('max_depth', np.arange(3, 15, dtype=int)),\n",
    "    'subsample': hp.uniform('subsample', 0.7, 1)\n",
    "}\n",
    "\n",
    "val_last_score = 0.6575\n",
    "\n",
    "def objective(param_space):\n",
    "    xgbst = XGBClassifier(n_estimators = param_space['n_estimators'],\n",
    "                          learning_rate=param_space['learning_rate'],\n",
    "                          colsample_bytree=param_space['colsample_bytree'],\n",
    "                          max_depth = param_space['max_depth'],\n",
    "                          subsample = param_space['subsample'],\n",
    "                          tree_method='gpu_exact', \n",
    "                          predictor='gpu_predictor', \n",
    "                          random_state=52, \n",
    "                          scale_pos_weight=1.2,\n",
    "                          n_jobs=-1\n",
    "                          )\n",
    "\n",
    "    xgbst.fit(X_train,y_train)\n",
    "    \n",
    "    pred = xgbst.predict_proba(X_val)[:,1]\n",
    "    auc = roc_auc_score(y_val, pred)\n",
    "    if auc>val_last_score:\n",
    "        print(\"SCORE: {:.4f}\".format(auc))\n",
    "        ans = {'n_estimators': param_space['n_estimators'],\n",
    "               'colsample_bytree': param_space['colsample_bytree'],\n",
    "               'learning_rate': param_space['learning_rate'],\n",
    "               'max_depth':  param_space['max_depth'],\n",
    "               'subsample': param_space['subsample']\n",
    "                }\n",
    "        print(ans)\n",
    "\n",
    "    return {'loss': 1-auc, 'status': STATUS_OK }\n",
    "\n",
    "def get_best_params():\n",
    "    trials = Trials()\n",
    "    best = fmin(fn=objective,\n",
    "                space=xg_hyperparams,\n",
    "                algo=tpe.suggest,\n",
    "                max_evals=250,\n",
    "                trials=trials)\n",
    "    return best\n"
   ]
  },
  {
   "cell_type": "code",
   "execution_count": 11,
   "metadata": {},
   "outputs": [],
   "source": [
    "best = {'n_estimators': 40, 'colsample_bytree': 0.9869441687261314, 'learning_rate': 0.12308477729361539, 'max_depth': 3, 'subsample': 0.7065671864689577}\n",
    "\n",
    "xg_tune = XGBClassifier(**best,\n",
    "                   tree_method='gpu_exact', \n",
    "                   predictor='gpu_predictor', \n",
    "                   random_state=52, \n",
    "                   scale_pos_weight=1.2,\n",
    "                   n_jobs=-1)\n"
   ]
  },
  {
   "cell_type": "code",
   "execution_count": 12,
   "metadata": {},
   "outputs": [
    {
     "name": "stdout",
     "output_type": "stream",
     "text": [
      "auc score on x_val:\n",
      "\t0.6565\n"
     ]
    }
   ],
   "source": [
    "xg_vote = VotingClassifier(estimators=[('xg', xg), ('xg_tune', xg_tune)], voting='soft')\n",
    "xg_vote.fit(X_train, y_train)\n",
    "x_val_pred = xg_vote.predict_proba(X_val)[:,1]\n",
    "print('auc score on x_val:\\n\\t{:.4f}'.format(roc_auc_score(y_val, x_val_pred)))\n",
    "\n",
    "xg_vote.fit(X_all, y_all)\n",
    "pred = xg_vote.predict_proba(X_test)[:,1]\n",
    "\n"
   ]
  },
  {
   "cell_type": "code",
   "execution_count": 13,
   "metadata": {},
   "outputs": [],
   "source": [
    "# submit \n",
    "# to_file(pred, \"sub\", to_kaggle=True, \"submission\")"
   ]
  }
 ],
 "metadata": {
  "kernelspec": {
   "display_name": "Python 3",
   "language": "python",
   "name": "python3"
  },
  "language_info": {
   "codemirror_mode": {
    "name": "ipython",
    "version": 3
   },
   "file_extension": ".py",
   "mimetype": "text/x-python",
   "name": "python",
   "nbconvert_exporter": "python",
   "pygments_lexer": "ipython3",
   "version": "3.6.7"
  }
 },
 "nbformat": 4,
 "nbformat_minor": 2
}
