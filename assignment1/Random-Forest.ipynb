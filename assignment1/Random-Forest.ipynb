{
 "cells": [
  {
   "cell_type": "code",
   "execution_count": null,
   "metadata": {},
   "outputs": [],
   "source": [
    "CLASSES = ['<=50k', '>50k']\n",
    "NUM_OF_CLASSES = len(CLASSES)\n",
    "\n",
    "# load data\n",
    "import pandas as pd\n",
    "import numpy as np\n",
    "from copy import copy\n",
    "from sklearn import preprocessing\n",
    "le = preprocessing.LabelEncoder()\n",
    "\n",
    "train_data = pd.read_csv('data/adult/adult.data', header=None)\n",
    "test_data = pd.read_csv('data/adult/adult.test', header=None)\n",
    "y_train = le.fit_transform(train_data.iloc[:, -1])\n",
    "y_test = le.fit_transform(test_data.iloc[:, -1])\n",
    "\n",
    "# concat, do one hot encoding, and split\n",
    "samples = len(train_data)\n",
    "dataset = pd.concat(objs=[train_data, test_data], axis=0)\n",
    "dataset = pd.get_dummies(dataset)\n",
    "train_data = copy(dataset[:samples])\n",
    "test_data = copy(dataset[samples:])\n",
    "\n",
    "# train & test preprocess\n",
    "train_rows, num_features = train_data.shape\n",
    "test_rows, _ = test_data.shape\n",
    "\n",
    "classes_cols_start = num_features-NUM_OF_CLASSES\n",
    "X_train = train_data.iloc[:, :classes_cols_start]\n",
    "X_test = test_data.iloc[:, :classes_cols_start]\n"
   ]
  },
  {
   "cell_type": "code",
   "execution_count": null,
   "metadata": {},
   "outputs": [],
   "source": [
    "### Hyper params\n",
    "# n_estimators - Num of trees\n",
    "# max_features - m << M\n",
    "from sklearn.model_selection import GridSearchCV\n",
    "from sklearn.ensemble import RandomForestClassifier\n",
    "model = RandomForestClassifier()\n",
    "max_depth\n",
    "\n",
    "# https://medium.com/@taplapinger/tuning-a-random-forest-classifier-1b252d1dde92\n",
    "\n",
    "\n",
    "\n",
    "# train model\n",
    "rf = RandomForestClassifier(n_estimators=100, criterion='entropy')\n",
    "rf.fit(X_train, y_train)"
   ]
  },
  {
   "cell_type": "code",
   "execution_count": null,
   "metadata": {},
   "outputs": [],
   "source": [
    "from sklearn.metrics import classification_report\n",
    "# acc = rf.score(X_test, y_test)\n",
    "y_test_pred = rf.predict(X_test)\n",
    "num_correct = np.sum(y_test_pred == y_test)\n",
    "accuracy = float(num_correct)/test_rows\n",
    "print('Got {} / {} correct => accuracy: {}'.format(num_correct, test_rows, accuracy))\n",
    "\n",
    "print(classification_report(y_test, y_test_pred, target_names=CLASSES))\n",
    "\n",
    "\n"
   ]
  },
  {
   "cell_type": "code",
   "execution_count": null,
   "metadata": {},
   "outputs": [],
   "source": [
    "np.savetxt(\"y_test_pred.txt\", y_test_pred)\n",
    "np.savetxt(\"y_test.txt\", y_test)"
   ]
  },
  {
   "cell_type": "code",
   "execution_count": null,
   "metadata": {},
   "outputs": [],
   "source": [
    "### TODO:\n",
    "# 1. use classification_report to find precision, recall and F1 score\n",
    "# 2. add param tune\n",
    "# 2. compare stanrad and new rf with this report on one dataset.\n",
    "# 3. implement for all datasets\n"
   ]
  }
 ],
 "metadata": {
  "kernelspec": {
   "display_name": "Python 3",
   "language": "python",
   "name": "python3"
  },
  "language_info": {
   "codemirror_mode": {
    "name": "ipython",
    "version": 3
   },
   "file_extension": ".py",
   "mimetype": "text/x-python",
   "name": "python",
   "nbconvert_exporter": "python",
   "pygments_lexer": "ipython3",
   "version": "3.6.7"
  }
 },
 "nbformat": 4,
 "nbformat_minor": 2
}
