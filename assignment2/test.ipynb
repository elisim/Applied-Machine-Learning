{
 "cells": [
  {
   "cell_type": "markdown",
   "metadata": {},
   "source": [
    " Todo:\n",
    " 1. remove columns with missing values with % > trashold using dropna with thresh\n",
    " 2. impute missing values\n",
    " 3. oversampling data\n",
    " 4. run xgboost"
   ]
  },
  {
   "cell_type": "code",
   "execution_count": 18,
   "metadata": {},
   "outputs": [
    {
     "name": "stdout",
     "output_type": "stream",
     "text": [
      "train.shape without missing rows = (30451, 52)\n",
      "class count:\n",
      " 0.0    29949\n",
      "1.0      502\n",
      "Name: Class, dtype: int64\n"
     ]
    }
   ],
   "source": [
    "############# READ DATA\n",
    "import pandas as pd\n",
    "import numpy as np\n",
    "from sklearn.impute import SimpleImputer\n",
    "from imblearn.over_sampling import SMOTE\n",
    "from sklearn.model_selection import train_test_split\n",
    "from imblearn.over_sampling import SMOTE\n",
    "\n",
    "\n",
    "TRAIN_PATH = 'input/saftey_efficay_myopiaTrain.csv'\n",
    "TEST_PATH = 'input/saftey_efficay_myopiaTest.csv'\n",
    "\n",
    "\n",
    "train = pd.read_csv(TRAIN_PATH, low_memory=False)\n",
    "train = train.dropna(axis=0, how='all') # remove missing rows\n",
    "print(\"train.shape without missing rows =\", train.shape)\n",
    "# print(train.columns)\n",
    "print(\"class count:\\n\",train.Class.value_counts())"
   ]
  },
  {
   "cell_type": "code",
   "execution_count": 20,
   "metadata": {},
   "outputs": [
    {
     "data": {
      "text/plain": [
       "(53894, 72)"
      ]
     },
     "execution_count": 20,
     "metadata": {},
     "output_type": "execute_result"
    }
   ],
   "source": [
    "#### preprocess\n",
    "y = train.Class\n",
    "columns_to_drop = ['Class', 'Pre_L_Pupil_Day', 'T_L_Actual_AblDepth']\n",
    "X = train.drop(columns=columns_to_drop)\n",
    "dummies = pd.get_dummies(X)\n",
    "X=(dummies-dummies.min())/(dummies.max()-dummies.min())\n",
    "imp_mean = SimpleImputer(missing_values=np.nan, strategy='mean')\n",
    "X=imp_mean.fit_transform(X)\n",
    "\n",
    "x_train, x_val, y_train, y_val = train_test_split(X, y, test_size = 0.1, random_state=12)\n",
    "sm = SMOTE(random_state=12, ratio = 1.0)\n",
    "x_train_res, y_train_res = sm.fit_sample(x_train, y_train)  \n",
    "\n",
    "          \n",
    "# from sklearn.manifold import TSNE\n",
    "# X_embedded = TSNE(n_components=2).fit_transform(X)"
   ]
  },
  {
   "cell_type": "code",
   "execution_count": 24,
   "metadata": {},
   "outputs": [],
   "source": [
    "from sklearn.ensemble import RandomForestClassifier\n",
    "foo = RandomForestClassifier(n_estimators=100, criterion='entropy')\n",
    "foo.fit(x_train_res, y_train_res)\n",
    "pred = foo.predict(x_val)\n",
    "                                       "
   ]
  },
  {
   "cell_type": "code",
   "execution_count": 25,
   "metadata": {},
   "outputs": [],
   "source": [
    "from xgboost import XGBClassifier\n",
    "model = XGBClassifier()\n",
    "model.fit(x_train_res, y_train_res)\n",
    "y_pred = model.predict(x_val)\n"
   ]
  },
  {
   "cell_type": "code",
   "execution_count": 27,
   "metadata": {},
   "outputs": [
    {
     "data": {
      "text/plain": [
       "3"
      ]
     },
     "execution_count": 27,
     "metadata": {},
     "output_type": "execute_result"
    }
   ],
   "source": [
    "res = pred > 0\n",
    "res.sum()"
   ]
  },
  {
   "cell_type": "code",
   "execution_count": 28,
   "metadata": {},
   "outputs": [
    {
     "data": {
      "text/plain": [
       "14"
      ]
     },
     "execution_count": 28,
     "metadata": {},
     "output_type": "execute_result"
    }
   ],
   "source": [
    "ress = y_pred > 0\n",
    "ress.sum()"
   ]
  },
  {
   "cell_type": "code",
   "execution_count": null,
   "metadata": {},
   "outputs": [],
   "source": []
  }
 ],
 "metadata": {
  "kernelspec": {
   "display_name": "Python 3",
   "language": "python",
   "name": "python3"
  },
  "language_info": {
   "codemirror_mode": {
    "name": "ipython",
    "version": 3
   },
   "file_extension": ".py",
   "mimetype": "text/x-python",
   "name": "python",
   "nbconvert_exporter": "python",
   "pygments_lexer": "ipython3",
   "version": "3.6.7"
  }
 },
 "nbformat": 4,
 "nbformat_minor": 2
}
