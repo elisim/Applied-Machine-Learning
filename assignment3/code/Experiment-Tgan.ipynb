{
 "cells": [
  {
   "cell_type": "code",
   "execution_count": 17,
   "metadata": {},
   "outputs": [],
   "source": [
    "import numpy as np\n",
    "import pandas as pd\n",
    "from sklearn.datasets import load_iris\n",
    "from decorate import DecorateClassifier \n",
    "from data_generation_methods import *\n",
    "import random\n",
    "from sklearn.ensemble import RandomForestClassifier\n",
    "from sklearn import preprocessing\n",
    "np.warnings.filterwarnings('ignore')\n",
    "\n",
    "TRAIN_PATH = 'data/chess/chess.data'\n",
    "chess = pd.read_csv(TRAIN_PATH, header=None)\n",
    "\n"
   ]
  },
  {
   "cell_type": "code",
   "execution_count": 18,
   "metadata": {},
   "outputs": [],
   "source": [
    "def get_x_y():\n",
    "    le = preprocessing.LabelEncoder() \n",
    "    y = chess.iloc[:, -1]\n",
    "    X = chess.drop(chess.columns[[-1]], axis=1)\n",
    "    return pd.get_dummies(X), le.fit_transform(y), le\n",
    "X, y, le = get_x_y()"
   ]
  },
  {
   "cell_type": "code",
   "execution_count": 19,
   "metadata": {},
   "outputs": [],
   "source": [
    "# test tgan method\n",
    "def test_get():\n",
    "    gen = TganDataGeneration()\n",
    "    X_art = gen.gen_data(dataset='chess', label_encoder=le)\n",
    "    y_art = gen.label_data()\n",
    "    return X_art, y_art\n",
    "X_art, y_art = test_get()\n"
   ]
  },
  {
   "cell_type": "code",
   "execution_count": 22,
   "metadata": {},
   "outputs": [
    {
     "name": "stdout",
     "output_type": "stream",
     "text": [
      "CPU times: user 1min 49s, sys: 75.4 ms, total: 1min 49s\n",
      "Wall time: 28.1 s\n"
     ]
    }
   ],
   "source": [
    "%%time\n",
    "dec = DecorateClassifier(n_estimators=100, n_iter=50, gen_artificial_method=TganDataGeneration(), dataset=\"chess\", label_encoder=le)\n",
    "dec.fit(X,y)"
   ]
  },
  {
   "cell_type": "code",
   "execution_count": 23,
   "metadata": {},
   "outputs": [
    {
     "name": "stdout",
     "output_type": "stream",
     "text": [
      "accuracy: 0.10\n",
      "ensemble size:  50\n"
     ]
    }
   ],
   "source": [
    "pred = dec.predict(np.random.rand(X.shape[0], X.shape[1]))\n",
    "print(\"accuracy: {:.2f}\".format(sum(pred == y)/len(X)))\n",
    "print(\"ensemble size: \", len(dec.ensemble_))"
   ]
  },
  {
   "cell_type": "code",
   "execution_count": 2,
   "metadata": {},
   "outputs": [],
   "source": [
    "## test tgan method\n",
    "def test_get():\n",
    "    gen = TganDataGeneration()\n",
    "    X_art = gen.gen_data(dataset='chess')\n",
    "    y_art = gen.label_data()\n",
    "    return X_art, y_art\n",
    "X_art, y_art = test_get()"
   ]
  },
  {
   "cell_type": "code",
   "execution_count": 6,
   "metadata": {},
   "outputs": [
    {
     "data": {
      "text/plain": [
       "True"
      ]
     },
     "execution_count": 6,
     "metadata": {},
     "output_type": "execute_result"
    }
   ],
   "source": [
    "len(y_art) == len(X_art)"
   ]
  },
  {
   "cell_type": "code",
   "execution_count": null,
   "metadata": {},
   "outputs": [],
   "source": []
  }
 ],
 "metadata": {
  "kernelspec": {
   "display_name": "Python 3",
   "language": "python",
   "name": "python3"
  },
  "language_info": {
   "codemirror_mode": {
    "name": "ipython",
    "version": 3
   },
   "file_extension": ".py",
   "mimetype": "text/x-python",
   "name": "python",
   "nbconvert_exporter": "python",
   "pygments_lexer": "ipython3",
   "version": "3.7.1"
  }
 },
 "nbformat": 4,
 "nbformat_minor": 2
}
