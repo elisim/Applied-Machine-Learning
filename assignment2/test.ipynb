{
 "cells": [
  {
   "cell_type": "code",
   "execution_count": 11,
   "metadata": {},
   "outputs": [],
   "source": [
    "import pandas as pd, numpy as np\n",
    "TRAIN_PATH = 'input/saftey_efficay_myopiaTrain.csv'\n",
    "TEST_PATH = 'inpu/saftey_efficay_myopiaTest.csv'"
   ]
  },
  {
   "cell_type": "code",
   "execution_count": 12,
   "metadata": {},
   "outputs": [
    {
     "name": "stdout",
     "output_type": "stream",
     "text": [
      "train.shape = (30451, 52)\n"
     ]
    }
   ],
   "source": [
    "train = pd.read_csv(TRAIN_PATH, low_memory=False)\n",
    "train = train.dropna(axis=0, how='all')\n",
    "print(\"train.shape =\", train.shape)\n"
   ]
  },
  {
   "cell_type": "code",
   "execution_count": 13,
   "metadata": {},
   "outputs": [
    {
     "name": "stdout",
     "output_type": "stream",
     "text": [
      "Counts:\n",
      "class = 0: 29949\n",
      "class= 1: 502\n",
      "class missing: 30451\n"
     ]
    }
   ],
   "source": [
    "y = train['Class']\n",
    "classes_count = y.value_counts()\n",
    "nulls_count = y.isnull().count()\n",
    "print('Counts:\\nclass = 0: {}\\nclass= 1: {}\\nclass missing: {}'.format(classes_count[0], classes_count[1], nulls_count))\n"
   ]
  },
  {
   "cell_type": "code",
   "execution_count": 14,
   "metadata": {},
   "outputs": [],
   "source": [
    "X = train.drop(columns='Class')\n",
    "dummies = pd.get_dummies(X)\n",
    "# df = dummies.fillna(value=0)\n",
    "# df=(df-df.min())/(df.max()-df.min())\n",
    "\n",
    "\n",
    "\n"
   ]
  },
  {
   "cell_type": "code",
   "execution_count": null,
   "metadata": {},
   "outputs": [],
   "source": [
    "from sklearn.ensemble import RandomForestClassifier\n",
    "foo = RandomForestClassifier(n_estimators=100, criterion='entropy')\n",
    "foo.fit(df, y)\n",
    "\n",
    "\n"
   ]
  },
  {
   "cell_type": "code",
   "execution_count": null,
   "metadata": {},
   "outputs": [],
   "source": []
  }
 ],
 "metadata": {
  "kernelspec": {
   "display_name": "Python 3",
   "language": "python",
   "name": "python3"
  },
  "language_info": {
   "codemirror_mode": {
    "name": "ipython",
    "version": 3
   },
   "file_extension": ".py",
   "mimetype": "text/x-python",
   "name": "python",
   "nbconvert_exporter": "python",
   "pygments_lexer": "ipython3",
   "version": "3.6.7"
  }
 },
 "nbformat": 4,
 "nbformat_minor": 2
}
