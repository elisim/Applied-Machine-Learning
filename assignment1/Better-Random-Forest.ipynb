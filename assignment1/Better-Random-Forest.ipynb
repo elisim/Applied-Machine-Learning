{
 "cells": [
  {
   "cell_type": "code",
   "execution_count": 12,
   "metadata": {},
   "outputs": [
    {
     "name": "stdout",
     "output_type": "stream",
     "text": [
      "run took 5.27 sec\n",
      "Dataset: AdultDataset\n",
      "RandomForestClassifier results:\n",
      "\n",
      "             precision    recall  f1-score   support\n",
      "\n",
      "      <=50k       0.87      0.87      0.87     12435\n",
      "       >50k       0.59      0.60      0.59      3846\n",
      "\n",
      "avg / total       0.81      0.81      0.81     16281\n",
      "\n",
      "RandomForestWithNaiveBayesLeavesClassifier results:\n",
      "\n",
      "             precision    recall  f1-score   support\n",
      "\n",
      "      <=50k       0.87      0.87      0.87     12435\n",
      "       >50k       0.59      0.59      0.59      3846\n",
      "\n",
      "avg / total       0.81      0.80      0.81     16281\n",
      "\n",
      "\n",
      "\n"
     ]
    }
   ],
   "source": [
    "# ignore warnings\n",
    "import warnings\n",
    "warnings.filterwarnings('ignore')\n",
    "\n",
    "from classifiers import RandomForestWithNaiveBayesLeavesClassifier, RandomForestClassifier\n",
    "from datasets import *\n",
    "from experiment import Experiment\n",
    "\n",
    "rf = RandomForestClassifier(n_estimators=1, criterion='entropy')\n",
    "better_rf = RandomForestWithNaiveBayesLeavesClassifier(n_estimators=1, criterion='entropy')\n",
    "\n",
    "### add here new datasets\n",
    "datasets = [AdultDataset()]\n",
    "\n",
    "for dataset in datasets:\n",
    "        exp = Experiment(rf, better_rf, dataset)\n",
    "        exp.run()\n",
    "        exp.print_results()\n",
    "        print(\"\\n\")\n",
    "\n"
   ]
  },
  {
   "cell_type": "code",
   "execution_count": null,
   "metadata": {},
   "outputs": [],
   "source": []
  }
 ],
 "metadata": {
  "kernelspec": {
   "display_name": "Python 3",
   "language": "python",
   "name": "python3"
  },
  "language_info": {
   "codemirror_mode": {
    "name": "ipython",
    "version": 3
   },
   "file_extension": ".py",
   "mimetype": "text/x-python",
   "name": "python",
   "nbconvert_exporter": "python",
   "pygments_lexer": "ipython3",
   "version": "3.7.0"
  }
 },
 "nbformat": 4,
 "nbformat_minor": 2
}
