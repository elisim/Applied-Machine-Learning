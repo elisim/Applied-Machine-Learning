{
 "cells": [
  {
   "cell_type": "code",
   "execution_count": 10,
   "metadata": {},
   "outputs": [],
   "source": [
    "import numpy as np\n",
    "import pandas as pd\n",
    "from decorate import DecorateClassifier \n",
    "from data_generation_methods import *\n",
    "from datasets import *\n",
    "from sklearn.model_selection import StratifiedKFold\n",
    "from sklearn.metrics import accuracy_score\n",
    "from sklearn import preprocessing\n",
    "import time\n",
    "\n",
    "np.warnings.filterwarnings('ignore')\n",
    "\n",
    "datasets = ['chess', 'abalone', 'balance_scale', 'contraceptive-method-choice', 'glass']\n",
    "curr_dataset = 'chess'\n",
    "\n",
    "TRAIN_PATH = f'data/{curr_dataset}/{curr_dataset}.data'\n",
    "data = pd.read_csv(TRAIN_PATH, header=None)\n",
    "\n"
   ]
  },
  {
   "cell_type": "code",
   "execution_count": 11,
   "metadata": {},
   "outputs": [
    {
     "name": "stdout",
     "output_type": "stream",
     "text": [
      "{'Abalone': (4177, 9), 'BalanceScale': (625, 5), 'ContraceptiveMethodChoice': (1473, 10), 'Chess': (28056, 7), 'LetterRecognition': (20000, 17)}\n"
     ]
    }
   ],
   "source": [
    "datasets = [\n",
    "           AbaloneDataset(),\n",
    "           BalanceScaleDataset(),\n",
    "           ContraceptiveMethodChoiceDataset(),\n",
    "           ChessDataset(),\n",
    "           LetterRecognitionDataset(),\n",
    "]\n",
    "shapes = {ds.__class__.__name__.replace('Dataset', ''): ds.shape for ds in datasets}\n",
    "print(shapes)"
   ]
  },
  {
   "cell_type": "code",
   "execution_count": null,
   "metadata": {},
   "outputs": [
    {
     "name": "stdout",
     "output_type": "stream",
     "text": [
      "Done Abalone, accuracy = 0.913\n",
      "Done BalanceScale, accuracy = 0.225\n",
      "Done ContraceptiveMethodChoice, accuracy = 0.886\n",
      "Done Chess, accuracy = 0.976\n"
     ]
    }
   ],
   "source": [
    "acc_avgs = {} # map between dataset -> 10-fold accuracy evaluation \n",
    "fit_time_avgs = {} # average time for fit \n",
    "predict_time_avgs = {} # average time for fit \n",
    "\n",
    "skf = StratifiedKFold(n_splits=10)\n",
    "for dataset in datasets:    \n",
    "    ## init sums\n",
    "    acc_avg = 0 \n",
    "    fit_avg = 0\n",
    "    predict_avg = 0\n",
    "    \n",
    "    ## classifier and data\n",
    "    dec = DecorateClassifier(n_estimators=100, n_iter=50, gen_artificial_method=TganDataGeneration(), dataset=dataset.name, label_encoder=dataset.get_le())\n",
    "    X, y = dataset.get_X_y()\n",
    "    \n",
    "    ## k-fold loop\n",
    "    for train_index, test_index in skf.split(X,y):\n",
    "        X_train, X_test = X.iloc[train_index], X.iloc[test_index]\n",
    "        y_train, y_test = y[train_index], y[test_index]\n",
    "        \n",
    "        fit_tic = time.time()\n",
    "        dec.fit(X_train, y_train)\n",
    "        fit_tac = time.time()\n",
    "        \n",
    "        predict_tic = time.time()\n",
    "        y_pred = dec.predict(X_test)\n",
    "        predict_tac = time.time()\n",
    "        \n",
    "        acc_avg += accuracy_score(y_pred, y_test)\n",
    "        fit_avg += (fit_tac - fit_tic)\n",
    "        predict_avg += (predict_tac - predict_tic)\n",
    "        \n",
    "    ds_name = dataset.__class__.__name__.replace('Dataset', '')\n",
    "    acc_avgs[ds_name] = round(acc_avg/10, 3)\n",
    "    fit_time_avgs[ds_name] = round(fit_avg/10, 3)\n",
    "    predict_time_avgs[ds_name] = round(predict_avg/10, 3)\n",
    "    print(f\"Done {ds_name}, accuracy = {acc_avgs[ds_name]}\")\n",
    "\n",
    "print()\n",
    "print(\"acc_avgs:\\n\\t \", acc_avgs)    \n",
    "print()\n",
    "print(\"fit_time_avgs:\\n\\t \", fit_time_avgs)    \n",
    "print()\n",
    "print(\"predict_time_avgs:\\n\\t \", predict_time_avgs)    "
   ]
  }
 ],
 "metadata": {
  "kernelspec": {
   "display_name": "Python 3",
   "language": "python",
   "name": "python3"
  },
  "language_info": {
   "codemirror_mode": {
    "name": "ipython",
    "version": 3
   },
   "file_extension": ".py",
   "mimetype": "text/x-python",
   "name": "python",
   "nbconvert_exporter": "python",
   "pygments_lexer": "ipython3",
   "version": "3.6.7"
  }
 },
 "nbformat": 4,
 "nbformat_minor": 2
}
