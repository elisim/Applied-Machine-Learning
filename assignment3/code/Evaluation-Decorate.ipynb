{
 "cells": [
  {
   "cell_type": "code",
   "execution_count": 13,
   "metadata": {},
   "outputs": [],
   "source": [
    "import numpy as np\n",
    "import pandas as pd\n",
    "from decorate import DecorateClassifier \n",
    "from data_generation_methods import *\n",
    "from datasets import *\n",
    "from sklearn.model_selection import StratifiedKFold\n",
    "from sklearn.metrics import accuracy_score\n",
    "from sklearn import preprocessing\n",
    "import time\n",
    "\n",
    "np.warnings.filterwarnings('ignore')"
   ]
  },
  {
   "cell_type": "code",
   "execution_count": 14,
   "metadata": {},
   "outputs": [
    {
     "name": "stdout",
     "output_type": "stream",
     "text": [
      "{'Lymphography': (148, 19), 'Abalone': (4177, 9), 'BalanceScale': (625, 5), 'LetterRecognition': (20000, 17), 'ContraceptiveMethodChoice': (1473, 10), 'Chess': (28056, 7), 'Car': (1728, 7), 'Glass': (214, 11), 'Nursery': (12960, 9), 'HayesRoth': (132, 6)}\n"
     ]
    }
   ],
   "source": [
    "datasets = [\n",
    "           LymphographyDataset(),\n",
    "           AbaloneDataset(),\n",
    "           BalanceScaleDataset(),\n",
    "           LetterRecognitionDataset(),\n",
    "           ContraceptiveMethodChoiceDataset(),\n",
    "           ChessDataset(),\n",
    "           CarDataset(),\n",
    "           GlassDataset(),\n",
    "           NurseryDataset(),\n",
    "           HayesRothDataset()\n",
    "]\n",
    "shapes = {ds.__class__.__name__.replace('Dataset', ''): ds.shape for ds in datasets}\n",
    "print(shapes)"
   ]
  },
  {
   "cell_type": "code",
   "execution_count": 15,
   "metadata": {},
   "outputs": [
    {
     "name": "stdout",
     "output_type": "stream",
     "text": [
      "Done Lymphography, accuracy = 0.923\n",
      "Done Abalone, accuracy = 0.922\n",
      "Done BalanceScale, accuracy = 0.253\n",
      "Done LetterRecognition, accuracy = 0.993\n",
      "Done ContraceptiveMethodChoice, accuracy = 0.908\n",
      "Done Chess, accuracy = 0.98\n",
      "Done Car, accuracy = 0.997\n",
      "Done Glass, accuracy = 1.0\n",
      "Done Nursery, accuracy = 1.0\n",
      "Done HayesRoth, accuracy = 0.987\n",
      "\n",
      "acc_avgs:\n",
      "\t  {'Lymphography': 0.923, 'Abalone': 0.922, 'BalanceScale': 0.253, 'LetterRecognition': 0.993, 'ContraceptiveMethodChoice': 0.908, 'Chess': 0.98, 'Car': 0.997, 'Glass': 1.0, 'Nursery': 1.0, 'HayesRoth': 0.987}\n",
      "\n",
      "fit_time_avgs:\n",
      "\t  {'Lymphography': 0.421, 'Abalone': 1.376, 'BalanceScale': 0.467, 'LetterRecognition': 5.621, 'ContraceptiveMethodChoice': 0.537, 'Chess': 8.809, 'Car': 0.583, 'Glass': 0.422, 'Nursery': 2.184, 'HayesRoth': 0.369}\n",
      "\n",
      "predict_time_avgs:\n",
      "\t  {'Lymphography': 0.028, 'Abalone': 0.049, 'BalanceScale': 0.038, 'LetterRecognition': 0.077, 'ContraceptiveMethodChoice': 0.031, 'Chess': 0.112, 'Car': 0.031, 'Glass': 0.033, 'Nursery': 0.045, 'HayesRoth': 0.031}\n"
     ]
    }
   ],
   "source": [
    "acc_avgs = {} # map between dataset -> 10-fold accuracy evaluation \n",
    "fit_time_avgs = {} # average time for fit \n",
    "predict_time_avgs = {} # average time for fit \n",
    "\n",
    "skf = StratifiedKFold(n_splits=10)\n",
    "for dataset in datasets:    \n",
    "    ## init sums\n",
    "    acc_avg = 0 \n",
    "    fit_avg = 0\n",
    "    predict_avg = 0\n",
    "    \n",
    "    ## classifier and data\n",
    "    dec = DecorateClassifier(n_estimators=100, n_iter=50, art_factor=0.1)\n",
    "    X, y = dataset.get_X_y()\n",
    "    \n",
    "    ## k-fold loop\n",
    "    for train_index, test_index in skf.split(X,y):\n",
    "        X_train, X_test = X.iloc[train_index], X.iloc[test_index]\n",
    "        y_train, y_test = y[train_index], y[test_index]\n",
    "        \n",
    "        fit_tic = time.time()\n",
    "        dec.fit(X_train, y_train)\n",
    "        fit_tac = time.time()\n",
    "        \n",
    "        predict_tic = time.time()\n",
    "        y_pred = dec.predict(X_test)\n",
    "        predict_tac = time.time()\n",
    "        \n",
    "        acc_avg += accuracy_score(y_pred, y_test)\n",
    "        fit_avg += (fit_tac - fit_tic)\n",
    "        predict_avg += (predict_tac - predict_tic)\n",
    "        \n",
    "    ds_name = dataset.__class__.__name__.replace('Dataset', '')\n",
    "    acc_avgs[ds_name] = round(acc_avg/10, 3)\n",
    "    fit_time_avgs[ds_name] = round(fit_avg/10, 3)\n",
    "    predict_time_avgs[ds_name] = round(predict_avg/10, 3)\n",
    "    print(f\"Done {ds_name}, accuracy = {acc_avgs[ds_name]}\")\n",
    "\n",
    "print()\n",
    "print(\"acc_avgs:\\n\\t \", acc_avgs)    \n",
    "print()\n",
    "print(\"fit_time_avgs:\\n\\t \", fit_time_avgs)    \n",
    "print()\n",
    "print(\"predict_time_avgs:\\n\\t \", predict_time_avgs)    "
   ]
  }
 ],
 "metadata": {
  "kernelspec": {
   "display_name": "Python 3",
   "language": "python",
   "name": "python3"
  },
  "language_info": {
   "codemirror_mode": {
    "name": "ipython",
    "version": 3
   },
   "file_extension": ".py",
   "mimetype": "text/x-python",
   "name": "python",
   "nbconvert_exporter": "python",
   "pygments_lexer": "ipython3",
   "version": "3.6.7"
  }
 },
 "nbformat": 4,
 "nbformat_minor": 2
}
