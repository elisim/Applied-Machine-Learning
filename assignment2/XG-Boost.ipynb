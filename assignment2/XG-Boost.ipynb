{
 "cells": [
  {
   "cell_type": "markdown",
   "metadata": {},
   "source": [
    "Todo:\n",
    " 1. remove noisy samples: one option - remove rows with num of nan > trash\n",
    " 2. feature selection (annova, pca) \n",
    " 3. check for cat boost \n",
    " 4. check SMOTETomek and undersample & SMOTENC\n",
    " \n",
    "Must:\n",
    " 1. XGBOOST with missing ==== DONE GOOD ====\n",
    " 2. random oversample  ===== DONE - BAD ====\n",
    " 3. Net\n",
    " 4. complete missing with classifier"
   ]
  },
  {
   "cell_type": "code",
   "execution_count": 16,
   "metadata": {},
   "outputs": [],
   "source": [
    "import pandas as pd\n",
    "import numpy as np\n",
    "from sklearn.impute import SimpleImputer\n",
    "from sklearn.model_selection import train_test_split\n",
    "from imblearn.over_sampling import SMOTE\n",
    "from sklearn.metrics import roc_auc_score\n",
    "from sklearn.ensemble import RandomForestClassifier\n",
    "from xgboost import XGBClassifier\n",
    "from sklearn.preprocessing import StandardScaler\n",
    "from imblearn.pipeline import Pipeline\n",
    "from sklearn.model_selection import GridSearchCV, StratifiedKFold\n",
    "from utils import *\n",
    "from imblearn.under_sampling import RandomUnderSampler\n",
    "from fancyimpute import KNN\n",
    "from hyperopt import hp, fmin, tpe, STATUS_OK, Trials\n",
    "from sklearn.externals import joblib\n",
    "\n",
    "import warnings\n",
    "warnings.filterwarnings('ignore')"
   ]
  },
  {
   "cell_type": "code",
   "execution_count": 17,
   "metadata": {},
   "outputs": [
    {
     "name": "stdout",
     "output_type": "stream",
     "text": [
      "train.shape without missing rows = (30451, 51)\n",
      "class count:\n",
      " 0.0    29949\n",
      "1.0      502\n",
      "Name: Class, dtype: int64\n",
      "Imputing row 1/42903 with 10 missing, elapsed time: 813.829\n",
      "Imputing row 10001/42903 with 10 missing, elapsed time: 842.423\n",
      "Imputing row 20001/42903 with 11 missing, elapsed time: 876.213\n",
      "Imputing row 30001/42903 with 14 missing, elapsed time: 897.794\n",
      "Imputing row 40001/42903 with 18 missing, elapsed time: 917.867\n",
      "Wall time: 15min 27s\n"
     ]
    }
   ],
   "source": [
    "%%time\n",
    "##### load & clean data\n",
    "train, test = load_data()\n",
    "train = train.dropna(axis=0, how='all') # remove missing rows\n",
    "y_all = train.Class\n",
    "train = train.drop(columns='Class')\n",
    "\n",
    "#columns_to_drop = ['Pre_L_Pupil_Day', 'T_L_Actual_AblDepth']\n",
    "#train, test = remove_columns(train, test, columns_to_drop)\n",
    "\n",
    "print(\"train.shape without missing rows =\", train.shape)\n",
    "print(\"class count:\\n\", y_all.value_counts())\n",
    "\n",
    "##### add here new steps to preprocess\n",
    "preprocessing = Pipeline([\n",
    "                ('scaler', StandardScaler()),\n",
    "                ('knn-imputation', KNN(k=5, print_interval=10000)) # =========== ACTIVATE in real time ===========\n",
    "                ])\n",
    "\n",
    "X_all, X_test = preprocess_data(train, test, preprocessing)\n",
    "X_train, X_val, y_train, y_val = train_test_split(X_all, y_all, test_size = 0.2, stratify=y_all, random_state=42)"
   ]
  },
  {
   "cell_type": "code",
   "execution_count": 18,
   "metadata": {},
   "outputs": [],
   "source": [
    "# %%time\n",
    "# xg = XGBClassifier(n_estimators=40, \n",
    "#                    tree_method='gpu_exact', \n",
    "#                    predictor='gpu_predictor', \n",
    "#                    random_state=52, \n",
    "#                    scale_pos_weight=1.2,\n",
    "#                    max_depth=4, \n",
    "#                    n_jobs=-1)\n",
    "\n",
    "# evaluation =  Pipeline([\n",
    "# #                 ('smote', SMOTE(random_state=42, ratio=1, n_jobs=-1, k_neighbors=3)),\n",
    "# #                 ('random_oversample', RandomOverSampler()),\n",
    "#                 ('xg',xg)\n",
    "#                 ])\n",
    "# print(evaluation.get_params().keys())"
   ]
  },
  {
   "cell_type": "code",
   "execution_count": 34,
   "metadata": {},
   "outputs": [
    {
     "name": "stdout",
     "output_type": "stream",
     "text": [
      "SCORE: 0.6603\n",
      "{'n_estimators': 40, 'colsample_bytree': 0.9550575463726813, 'learning_rate': 0.1622497530312635, 'max_depth': 3, 'subsample': 0.7286986128905933}\n",
      "SCORE: 0.6703\n",
      "{'n_estimators': 40, 'colsample_bytree': 0.9869441687261314, 'learning_rate': 0.12308477729361539, 'max_depth': 3, 'subsample': 0.7065671864689577}\n",
      "SCORE: 0.6685\n",
      "{'n_estimators': 40, 'colsample_bytree': 0.9113033798358997, 'learning_rate': 0.15679758732676893, 'max_depth': 3, 'subsample': 0.7622984946942586}\n",
      "SCORE: 0.6661\n",
      "{'n_estimators': 40, 'colsample_bytree': 0.873212334197526, 'learning_rate': 0.10041851556235826, 'max_depth': 3, 'subsample': 0.7610334888865297}\n",
      "SCORE: 0.6606\n",
      "{'n_estimators': 40, 'colsample_bytree': 0.9452656412797206, 'learning_rate': 0.14883357354800392, 'max_depth': 3, 'subsample': 0.7349974507286338}\n",
      "SCORE: 0.6626\n",
      "{'n_estimators': 40, 'colsample_bytree': 0.918615308314015, 'learning_rate': 0.14613675248363717, 'max_depth': 3, 'subsample': 0.7380120164430177}\n",
      "SCORE: 0.6726\n",
      "{'n_estimators': 40, 'colsample_bytree': 0.9246637836459941, 'learning_rate': 0.1024409296340219, 'max_depth': 3, 'subsample': 0.731947365299333}\n",
      "SCORE: 0.6693\n",
      "{'n_estimators': 40, 'colsample_bytree': 0.9328959335148712, 'learning_rate': 0.1004846930251621, 'max_depth': 3, 'subsample': 0.7309458346717304}\n",
      "SCORE: 0.6702\n",
      "{'n_estimators': 40, 'colsample_bytree': 0.9575002350389508, 'learning_rate': 0.11293422216136395, 'max_depth': 3, 'subsample': 0.7109511204369361}\n",
      "SCORE: 0.6653\n",
      "{'n_estimators': 40, 'colsample_bytree': 0.9884775110162554, 'learning_rate': 0.10922843895619369, 'max_depth': 3, 'subsample': 0.7298276054499012}\n",
      "SCORE: 0.6627\n",
      "{'n_estimators': 40, 'colsample_bytree': 0.9623665964442711, 'learning_rate': 0.13781923506818378, 'max_depth': 4, 'subsample': 0.939438176756005}\n",
      "SCORE: 0.6716\n",
      "{'n_estimators': 40, 'colsample_bytree': 0.9461492183502577, 'learning_rate': 0.10208853122888187, 'max_depth': 3, 'subsample': 0.7267248973697573}\n",
      "SCORE: 0.6624\n",
      "{'n_estimators': 30, 'colsample_bytree': 0.9749309897447132, 'learning_rate': 0.11717017404336985, 'max_depth': 3, 'subsample': 0.7045599247138229}\n",
      "{'colsample_bytree': 0.9246637836459941, 'learning_rate': 0.1024409296340219, 'max_depth': 0, 'n_estimators': 1, 'subsample': 0.731947365299333}\n",
      "Wall time: 4min 45s\n"
     ]
    }
   ],
   "source": [
    "%%time\n",
    "xg_hyperparams = {\n",
    "    'n_estimators': hp.choice('n_estimators', np.arange(30, 300, 10, dtype=int)),\n",
    "    'learning_rate': hp.uniform('learning_rate', 0.1,0.7),\n",
    "    'colsample_bytree': hp.uniform('colsample_bytree', 0.7, 1),\n",
    "    'max_depth': hp.choice('max_depth', np.arange(3, 15, dtype=int)),\n",
    "    'subsample': hp.uniform('subsample', 0.7, 1)\n",
    "}\n",
    "\n",
    "def objective(param_space):\n",
    "    xgbst = XGBClassifier(n_estimators = param_space['n_estimators'],\n",
    "                          learning_rate=param_space['learning_rate'],\n",
    "                          colsample_bytree=param_space['colsample_bytree'],\n",
    "                          max_depth = param_space['max_depth'],\n",
    "                          subsample = param_space['subsample'],\n",
    "                          tree_method='gpu_exact', \n",
    "                          predictor='gpu_predictor', \n",
    "                          random_state=52, \n",
    "                          scale_pos_weight=1.2,\n",
    "                          n_jobs=-1\n",
    "                          )\n",
    "\n",
    "#     eval_set  = [(X_train, y_train), (X_val, y_val)]\n",
    "\n",
    "    xgbst.fit(X_train,y_train)\n",
    "#               eval_set=eval_set, \n",
    "#               eval_metric=\"auc\",\n",
    "#               early_stopping_rounds=100)\n",
    "\n",
    "    pred = xgbst.predict_proba(X_val)[:,1]\n",
    "    auc = roc_auc_score(y_val, pred)\n",
    "    if auc>0.6575:\n",
    "        print(\"SCORE: {:.4f}\".format(auc))\n",
    "        ans = {'n_estimators': param_space['n_estimators'],\n",
    "               'colsample_bytree': param_space['colsample_bytree'],\n",
    "               'learning_rate': param_space['learning_rate'],\n",
    "               'max_depth':  param_space['max_depth'],\n",
    "               'subsample': param_space['subsample']\n",
    "                }\n",
    "        print(ans)\n",
    "\n",
    "    return {'loss': 1-auc, 'status': STATUS_OK }\n",
    "\n",
    "\n",
    "trials = Trials()\n",
    "best = fmin(fn=objective,\n",
    "            space=xg_hyperparams,\n",
    "            algo=tpe.suggest,\n",
    "            max_evals=250,\n",
    "            trials=trials)\n",
    "print(best)"
   ]
  },
  {
   "cell_type": "code",
   "execution_count": 40,
   "metadata": {},
   "outputs": [
    {
     "name": "stdout",
     "output_type": "stream",
     "text": [
      "config:\n",
      "\t{'n_estimators': 40, 'colsample_bytree': 0.9246637836459941, 'learning_rate': 0.1024409296340219, 'max_depth': 3, 'subsample': 0.731947365299333}\n",
      "auc score on x_val:\n",
      "\t0.6726\n",
      "\n",
      "config:\n",
      "\t{'n_estimators': 40, 'colsample_bytree': 0.9461492183502577, 'learning_rate': 0.10208853122888187, 'max_depth': 3, 'subsample': 0.7267248973697573}\n",
      "auc score on x_val:\n",
      "\t0.6716\n",
      "\n",
      "config:\n",
      "\t{'n_estimators': 40, 'colsample_bytree': 0.9869441687261314, 'learning_rate': 0.12308477729361539, 'max_depth': 3, 'subsample': 0.7065671864689577}\n",
      "auc score on x_val:\n",
      "\t0.6703\n",
      "\n",
      "config:\n",
      "\t{'n_estimators': 40, 'colsample_bytree': 0.9575002350389508, 'learning_rate': 0.11293422216136395, 'max_depth': 3, 'subsample': 0.7109511204369361}\n",
      "auc score on x_val:\n",
      "\t0.6702\n",
      "\n"
     ]
    }
   ],
   "source": [
    "best = [\n",
    "    {'n_estimators': 40, 'colsample_bytree': 0.9246637836459941, 'learning_rate': 0.1024409296340219, 'max_depth': 3, 'subsample': 0.731947365299333},\n",
    "    {'n_estimators': 40, 'colsample_bytree': 0.9461492183502577, 'learning_rate': 0.10208853122888187, 'max_depth': 3, 'subsample': 0.7267248973697573},\n",
    "    {'n_estimators': 40, 'colsample_bytree': 0.9869441687261314, 'learning_rate': 0.12308477729361539, 'max_depth': 3, 'subsample': 0.7065671864689577},\n",
    "    {'n_estimators': 40, 'colsample_bytree': 0.9575002350389508, 'learning_rate': 0.11293422216136395, 'max_depth': 3, 'subsample': 0.7109511204369361}\n",
    "]\n",
    "for i,b  in enumerate(best):\n",
    "    print(\"config:\\n\\t{}\".format(b))\n",
    "    xg = XGBClassifier(**b,\n",
    "                       tree_method='gpu_exact', \n",
    "                       predictor='gpu_predictor', \n",
    "                       random_state=52, \n",
    "                       scale_pos_weight=1.2,\n",
    "                       n_jobs=-1)\n",
    "    xg.fit(X_train, y_train)\n",
    "    x_val_pred = xg.predict_proba(X_val)[:,1]\n",
    "    print('auc score on x_val:\\n\\t{:.4f}'.format(roc_auc_score(y_val, x_val_pred)))\n",
    "    print()\n",
    "    xg.fit(X_all, y_all)\n",
    "    pred = xg.predict_proba(X_test)[:,1]\n",
    "    to_file(pred, \"xg_tune_config{}\".format(i), True, \"xg_tune_config{}\".format(i))"
   ]
  },
  {
   "cell_type": "code",
   "execution_count": null,
   "metadata": {},
   "outputs": [],
   "source": []
  },
  {
   "cell_type": "code",
   "execution_count": null,
   "metadata": {},
   "outputs": [],
   "source": [
    "import scikitplot as skplt\n",
    "import matplotlib.pyplot as plt\n",
    "y_true = y_val\n",
    "y_probas = gs.predict_proba(X_val)\n",
    "skplt.metrics.plot_roc_curve(y_true, y_probas)\n",
    "plt.show()"
   ]
  },
  {
   "cell_type": "code",
   "execution_count": null,
   "metadata": {},
   "outputs": [],
   "source": []
  }
 ],
 "metadata": {
  "kernelspec": {
   "display_name": "Python 3",
   "language": "python",
   "name": "python3"
  },
  "language_info": {
   "codemirror_mode": {
    "name": "ipython",
    "version": 3
   },
   "file_extension": ".py",
   "mimetype": "text/x-python",
   "name": "python",
   "nbconvert_exporter": "python",
   "pygments_lexer": "ipython3",
   "version": "3.6.7"
  }
 },
 "nbformat": 4,
 "nbformat_minor": 2
}
