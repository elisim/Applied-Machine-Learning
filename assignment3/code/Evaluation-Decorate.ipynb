{
 "cells": [
  {
   "cell_type": "code",
   "execution_count": 1,
   "metadata": {},
   "outputs": [],
   "source": [
    "import numpy as np\n",
    "import pandas as pd\n",
    "from decorate import DecorateClassifier \n",
    "from data_generation_methods import *\n",
    "from datasets import *\n",
    "from sklearn.model_selection import StratifiedKFold\n",
    "from sklearn.metrics import accuracy_score\n",
    "from sklearn import preprocessing\n",
    "\n",
    "np.warnings.filterwarnings('ignore')"
   ]
  },
  {
   "cell_type": "code",
   "execution_count": 2,
   "metadata": {},
   "outputs": [],
   "source": [
    "datasets = [\n",
    "           LymphographyDataset(),\n",
    "           AbaloneDataset(),\n",
    "           BalanceScaleDataset(),\n",
    "           LetterRecognitionDataset(),\n",
    "           ContraceptiveMethodChoiceDataset(),\n",
    "           ChessDataset(),\n",
    "           CarDataset(),\n",
    "           GlassDataset(),\n",
    "          NurseryDataset(),\n",
    "           HayesRothDataset()\n",
    "]"
   ]
  },
  {
   "cell_type": "code",
   "execution_count": 3,
   "metadata": {},
   "outputs": [
    {
     "name": "stdout",
     "output_type": "stream",
     "text": [
      "Done Lymphography, accuracy = 0.9153846153846154\n",
      "Done Abalone, accuracy = 0.920988893349391\n",
      "Done BalanceScale, accuracy = 0.25333333333333335\n",
      "Done LetterRecognition, accuracy = 0.9903625687504383\n",
      "Done ContraceptiveMethodChoice, accuracy = 0.8946763639447415\n",
      "Done Chess, accuracy = 0.9794645135911105\n",
      "Done Car, accuracy = 0.9988505747126437\n",
      "Done Glass, accuracy = 1.0\n",
      "Done Nursery, accuracy = 0.9996144949884348\n",
      "Done HayesRoth, accuracy = 0.9933333333333334\n",
      "\n",
      "{'Lymphography': 0.9153846153846154, 'Abalone': 0.920988893349391, 'BalanceScale': 0.25333333333333335, 'LetterRecognition': 0.9903625687504383, 'ContraceptiveMethodChoice': 0.8946763639447415, 'Chess': 0.9794645135911105, 'Car': 0.9988505747126437, 'Glass': 1.0, 'Nursery': 0.9996144949884348, 'HayesRoth': 0.9933333333333334}\n"
     ]
    }
   ],
   "source": [
    "acc_avgs = {} # map between dataset -> 10-fold accuracy evaluation \n",
    "skf = StratifiedKFold(n_splits=10)\n",
    "\n",
    "for dataset in datasets:    \n",
    "    dec = DecorateClassifier(n_estimators=100, n_iter=50, art_factor=0.1)\n",
    "    acc_avg = 0 # accuracy average over all folds\n",
    "    X, y = dataset.get_X_y()\n",
    "    \n",
    "    for train_index, test_index in skf.split(X,y):\n",
    "        X_train, X_test = X.iloc[train_index], X.iloc[test_index]\n",
    "        y_train, y_test = y[train_index], y[test_index]\n",
    "        dec.fit(X_train, y_train)        \n",
    "        y_pred = dec.predict(X_test)\n",
    "        acc_avg += accuracy_score(y_pred, y_test)\n",
    "        \n",
    "    ds_name = dataset.__class__.__name__.replace('Dataset', '')\n",
    "    acc_avgs[ds_name] = acc_avg/10\n",
    "    print(f\"Done {ds_name}, accuracy = {acc_avgs[ds_name]}\")\n",
    "\n",
    "print()\n",
    "print(acc_avgs)    "
   ]
  },
  {
   "cell_type": "code",
   "execution_count": 5,
   "metadata": {},
   "outputs": [
    {
     "name": "stdout",
     "output_type": "stream",
     "text": [
      "{'Lymphography': (148, 19), 'Abalone': (4177, 9), 'BalanceScale': (625, 5), 'LetterRecognition': (20000, 17), 'ContraceptiveMethodChoice': (1473, 10), 'Chess': (28056, 7), 'Car': (1728, 7), 'Glass': (214, 11), 'Nursery': (12960, 9), 'HayesRoth': (132, 6)}\n"
     ]
    }
   ],
   "source": [
    "shapes = {ds.__class__.__name__.replace('Dataset', ''): ds.shape for ds in datasets}\n",
    "print(shapes)\n",
    "    "
   ]
  },
  {
   "cell_type": "code",
   "execution_count": null,
   "metadata": {},
   "outputs": [],
   "source": []
  }
 ],
 "metadata": {
  "kernelspec": {
   "display_name": "Python 3",
   "language": "python",
   "name": "python3"
  },
  "language_info": {
   "codemirror_mode": {
    "name": "ipython",
    "version": 3
   },
   "file_extension": ".py",
   "mimetype": "text/x-python",
   "name": "python",
   "nbconvert_exporter": "python",
   "pygments_lexer": "ipython3",
   "version": "3.6.7"
  }
 },
 "nbformat": 4,
 "nbformat_minor": 2
}
