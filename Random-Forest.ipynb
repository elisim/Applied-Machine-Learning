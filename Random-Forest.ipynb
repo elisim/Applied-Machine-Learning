{
 "cells": [
  {
   "cell_type": "code",
   "execution_count": null,
   "metadata": {},
   "outputs": [],
   "source": [
    "# load data\n",
    "import pandas as pd\n",
    "train_data = pd.read_csv('data/adult.data')\n",
    "train_data['data-type'] = 'train'\n",
    "test_set_data = pd.read_csv('data/adult.test')\n",
    "test_set_data['data-type'] = 'test'\n",
    "\n",
    "# concat test and train sets\n",
    "concat_df = pd.concat([test_set_data,train_data])\n",
    "\n",
    "# hot code encoding for all data (train + test)\n",
    "concat_df = pd.get_dummies(concat_df)\n",
    "\n",
    "# seperate data sets \n",
    "train = concat_df[concat_df['data-type_train'] == 1]\n",
    "test = concat_df[concat_df['data-type_test'] == 1]\n",
    "\n",
    "# train set preprocess\n",
    "rows, cols = train.shape\n",
    "X = train.iloc[:, :cols-4]\n",
    "y = train.iloc[:, -3:cols-2]\n",
    "y.head(5)"
   ]
  },
  {
   "cell_type": "code",
   "execution_count": null,
   "metadata": {},
   "outputs": [],
   "source": [
    "import numpy as np\n",
    "labels = np.array(y).reshape(-1)\n",
    "data = np.array(X)\n",
    "\n",
    "### Hyper params\n",
    "# n_estimators - Num of trees\n",
    "# max_features - m << M\n",
    "# Parameters: n_estimators, criterion, max_features, max_depth, min_samples_split,\n",
    "# min_samples_leaf, min_weight_leaf,min_weight_fraction_leaf,max_leaf_nodes,min_impurity_decrease,\n",
    "# bootstrap, oob_score, n_jobs, random_state, verbose, warm_start, class_weight\n",
    "# https://medium.com/@taplapinger/tuning-a-random-forest-classifier-1b252d1dde92\n",
    "\n",
    "# train model\n",
    "from sklearn.ensemble import RandomForestClassifier\n",
    "rf = RandomForestClassifier(n_estimators=10, criterion='entropy')\n",
    "rf.fit(data, labels)"
   ]
  },
  {
   "cell_type": "code",
   "execution_count": null,
   "metadata": {},
   "outputs": [],
   "source": [
    "pred = rf.predict(data)\n",
    "np.savetxt('pred_for_train_set.txt', pred)"
   ]
  },
  {
   "cell_type": "code",
   "execution_count": null,
   "metadata": {},
   "outputs": [],
   "source": [
    "# test set preprocess\n",
    "rows, cols = test.shape\n",
    "X = train.iloc[:, :cols-4]\n",
    "y = train.iloc[:, -3:cols-2]\n",
    "import numpy as np\n",
    "labels = np.array(y).reshape(-1)\n",
    "data = np.array(X)"
   ]
  },
  {
   "cell_type": "code",
   "execution_count": null,
   "metadata": {},
   "outputs": [],
   "source": [
    "# calculate the model's accuracy\n",
    "pred = rf.predict(data)\n",
    "errors = abs(pred - labels)"
   ]
  }
 ],
 "metadata": {
  "kernelspec": {
   "display_name": "Python 3",
   "language": "python",
   "name": "python3"
  },
  "language_info": {
   "codemirror_mode": {
    "name": "ipython",
    "version": 3
   },
   "file_extension": ".py",
   "mimetype": "text/x-python",
   "name": "python",
   "nbconvert_exporter": "python",
   "pygments_lexer": "ipython3",
   "version": "3.6.6"
  }
 },
 "nbformat": 4,
 "nbformat_minor": 2
}
