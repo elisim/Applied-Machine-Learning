{
 "cells": [
  {
   "cell_type": "code",
   "execution_count": 98,
   "metadata": {},
   "outputs": [],
   "source": [
    "NUM_OF_CLASSES = 2\n",
    "\n",
    "# load data\n",
    "import pandas as pd\n",
    "import numpy as np\n",
    "import copy\n",
    "train_data = pd.read_csv('data/adult/adult.data', header=None)\n",
    "test_data = pd.read_csv('data/adult/adult.test', header=None)\n",
    "\n",
    "# concat, do one hot encoding, and split\n",
    "samples = len(train_data)\n",
    "dataset = pd.concat(objs=[train_data, test_data], axis=0)\n",
    "dataset = pd.get_dummies(dataset)\n",
    "train_data = copy.copy(dataset[:samples])\n",
    "test_data = copy.copy(dataset[samples:])\n",
    "\n",
    "# train & test preprocess\n",
    "train_rows, num_features = train_data.shape\n",
    "test_rows, _ = test_data.shape\n",
    "\n",
    "classes_cols_start = num_features-NUM_OF_CLASSES\n",
    "X_train = train_data.iloc[:, :classes_cols_start]\n",
    "y_train = train_data.iloc[:, classes_cols_start:]\n",
    "X_test = test_data.iloc[:, :classes_cols_start]\n",
    "y_test = test_data.iloc[:, classes_cols_start:]"
   ]
  },
  {
   "cell_type": "code",
   "execution_count": 99,
   "metadata": {},
   "outputs": [
    {
     "name": "stdout",
     "output_type": "stream",
     "text": [
      "(32561, 108)\n",
      "(32561, 2)\n"
     ]
    },
    {
     "data": {
      "text/plain": [
       "RandomForestClassifier(bootstrap=True, class_weight=None, criterion='entropy',\n",
       "            max_depth=None, max_features='auto', max_leaf_nodes=None,\n",
       "            min_impurity_decrease=0.0, min_impurity_split=None,\n",
       "            min_samples_leaf=1, min_samples_split=2,\n",
       "            min_weight_fraction_leaf=0.0, n_estimators=10, n_jobs=1,\n",
       "            oob_score=False, random_state=None, verbose=0,\n",
       "            warm_start=False)"
      ]
     },
     "execution_count": 99,
     "metadata": {},
     "output_type": "execute_result"
    }
   ],
   "source": [
    "import numpy as np\n",
    "y_train = np.array(y_train)\n",
    "X_train = np.array(X_train)\n",
    "\n",
    "### Hyper params\n",
    "# n_estimators - Num of trees\n",
    "# max_features - m << M\n",
    "\n",
    "# Parameters: n_estimators, criterion, max_features, max_depth, min_samples_split,\n",
    "# min_samples_leaf, min_weight_leaf,min_weight_fraction_leaf,max_leaf_nodes,min_impurity_decrease,\n",
    "# bootstrap, oob_score, n_jobs, random_state, verbose, warm_start, class_weight\n",
    "# https://medium.com/@taplapinger/tuning-a-random-forest-classifier-1b252d1dde92\n",
    "\n",
    "print(X_train.shape)\n",
    "print(y_train.shape)\n",
    "\n",
    "# train model\n",
    "from sklearn.ensemble import RandomForestClassifier\n",
    "rf = RandomForestClassifier(n_estimators=10, criterion='entropy')\n",
    "rf.fit(X_train, y_train)"
   ]
  },
  {
   "cell_type": "code",
   "execution_count": 100,
   "metadata": {},
   "outputs": [],
   "source": [
    "# test set preprocess\n",
    "X_test = np.array(X_test)\n",
    "\n",
    "# calculate the model's accuracy\n",
    "pred = rf.predict(X_test)\n",
    "np.savetxt(\"pred.txt\", pred)\n",
    "np.savetxt(\"read_pred.txt\", y_test)\n",
    "\n",
    "################ TODO\n",
    "### test error"
   ]
  }
 ],
 "metadata": {
  "kernelspec": {
   "display_name": "Python 3",
   "language": "python",
   "name": "python3"
  },
  "language_info": {
   "codemirror_mode": {
    "name": "ipython",
    "version": 3
   },
   "file_extension": ".py",
   "mimetype": "text/x-python",
   "name": "python",
   "nbconvert_exporter": "python",
   "pygments_lexer": "ipython3",
   "version": "3.6.7"
  }
 },
 "nbformat": 4,
 "nbformat_minor": 2
}
