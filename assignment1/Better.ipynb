{
 "cells": [
  {
   "cell_type": "code",
   "execution_count": 4,
   "metadata": {},
   "outputs": [],
   "source": [
    "from classifiers import RandomForestWithNaiveBayesLeavesClassifier, RandomForestClassifier\n",
    "from datasets.adult import AdultDataset\n",
    "from sklearn.metrics import classification_report\n",
    "\n",
    "TRAIN_PATH = 'data/adult/adult.data'\n",
    "TEST_PATH = 'data/adult/adult.test'\n",
    "\n",
    "adult_dataset = AdultDataset(TRAIN_PATH, TEST_PATH)\n",
    "data = adult.get_train_and_test_data()"
   ]
  },
  {
   "cell_type": "code",
   "execution_count": 5,
   "metadata": {},
   "outputs": [
    {
     "name": "stdout",
     "output_type": "stream",
     "text": [
      "             precision    recall  f1-score   support\n",
      "\n",
      "      <=50k       0.88      0.93      0.91     12435\n",
      "       >50k       0.72      0.61      0.66      3846\n",
      "\n",
      "avg / total       0.85      0.85      0.85     16281\n",
      "\n"
     ]
    }
   ],
   "source": [
    "rf = RandomForestClassifier(n_estimators=100, criterion='entropy')\n",
    "rf.fit(data['X_train'], data['y_train'])\n",
    "y_test_pred = rf.predict(data['X_test'])\n",
    "print(classification_report(data['y_test'], y_test_pred, target_names=adult_dataset.get_classes()))"
   ]
  }
 ],
 "metadata": {
  "kernelspec": {
   "display_name": "Python 3",
   "language": "python",
   "name": "python3"
  },
  "language_info": {
   "codemirror_mode": {
    "name": "ipython",
    "version": 3
   },
   "file_extension": ".py",
   "mimetype": "text/x-python",
   "name": "python",
   "nbconvert_exporter": "python",
   "pygments_lexer": "ipython3",
   "version": "3.6.7"
  }
 },
 "nbformat": 4,
 "nbformat_minor": 2
}
