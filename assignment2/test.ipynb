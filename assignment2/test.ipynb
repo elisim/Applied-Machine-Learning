{
 "cells": [
  {
   "cell_type": "markdown",
   "metadata": {},
   "source": [
    " Todo:\n",
    " 1. check the order of the preprocess. what to do first === DONE ===\n",
    " 2. create pipeline \n",
    " 3. hyper param search\n",
    " 4. after findind hyper-params, add fit on all data (include val) \n",
    " 5. remove noisy samples: one option - remove rows with num of nan > trash\n",
    " 6. feature selection (annova, pca) \n",
    " 7. check for cat boost \n",
    " 8. "
   ]
  },
  {
   "cell_type": "code",
   "execution_count": 1,
   "metadata": {},
   "outputs": [],
   "source": [
    "############# READ DATA\n",
    "import pandas as pd\n",
    "import numpy as np\n",
    "from sklearn.impute import SimpleImputer\n",
    "from sklearn.model_selection import train_test_split\n",
    "from imblearn.over_sampling import SMOTE\n",
    "from sklearn.metrics import roc_auc_score\n",
    "from sklearn.ensemble import RandomForestClassifier\n",
    "from xgboost import XGBClassifier\n",
    "from sklearn.preprocessing import StandardScaler\n",
    "from copy import copy"
   ]
  },
  {
   "cell_type": "code",
   "execution_count": 2,
   "metadata": {},
   "outputs": [
    {
     "name": "stdout",
     "output_type": "stream",
     "text": [
      "train.shape without missing rows = (30451, 49)\n",
      "class count:\n",
      " 0.0    29949\n",
      "1.0      502\n",
      "Name: Class, dtype: int64\n"
     ]
    }
   ],
   "source": [
    "TRAIN_PATH = 'input/saftey_efficay_myopiaTrain.csv'\n",
    "TEST_PATH = 'input/saftey_efficay_myopiaTest.csv'\n",
    "\n",
    "train = pd.read_csv(TRAIN_PATH, low_memory=False)\n",
    "test = pd.read_csv(TEST_PATH, low_memory=False)\n",
    "\n",
    "train = train.dropna(axis=0, how='all') # remove missing rows\n",
    "y_train = train.Class\n",
    "columns_to_drop = ['Class', 'Pre_L_Pupil_Day', 'T_L_Actual_AblDepth']\n",
    "train = train.drop(columns=columns_to_drop)\n",
    "columns_to_drop = ['Pre_L_Pupil_Day', 'T_L_Actual_AblDepth']\n",
    "test = test.drop(columns=columns_to_drop)\n",
    "\n",
    "print(\"train.shape without missing rows =\", train.shape)\n",
    "print(\"class count:\\n\", y_train.value_counts())"
   ]
  },
  {
   "cell_type": "code",
   "execution_count": 3,
   "metadata": {},
   "outputs": [],
   "source": [
    "#### preprocess\n",
    "import warnings\n",
    "warnings.filterwarnings('ignore')\n",
    "\n",
    "################### concat test train\n",
    "n_train = train.shape[0]\n",
    "concat = pd.concat(objs=[train, test], axis=0, sort=False)\n",
    "concat_dummies = pd.get_dummies(concat)\n",
    "train_dummies = copy(concat_dummies[:n_train])\n",
    "test_dummies = copy(concat_dummies[n_train:])\n",
    "assert np.array_equal(train_dummies.columns, test_dummies.columns), \"columns not the same\""
   ]
  },
  {
   "cell_type": "code",
   "execution_count": 4,
   "metadata": {},
   "outputs": [],
   "source": [
    "# X = (dummies-dummies.min())/(dummies.max()-dummies.min())\n",
    "scaler = StandardScaler()\n",
    "mean_imputer = SimpleImputer(missing_values=np.nan, strategy='mean')\n",
    "\n",
    "X = scaler.fit_transform(train_dummies)\n",
    "# X = mean_imputer.fit_transform(X)\n",
    "test = scaler.transform(test_dummies)\n",
    "# test = mean_imputer.transform(test)\n",
    "assert np.array_equal(train_dummies.columns, test_dummies.columns), \"columns not the same\""
   ]
  },
  {
   "cell_type": "code",
   "execution_count": 5,
   "metadata": {},
   "outputs": [],
   "source": [
    "x_train, x_val, y_train, y_val = train_test_split(X, y_train, test_size = 0.1, random_state=12)\n",
    "\n",
    "sm = SMOTE(random_state=12, ratio = 1.0)\n",
    "x_train_res, y_train_res = sm.fit_sample(x_train, y_train)  "
   ]
  },
  {
   "cell_type": "code",
   "execution_count": 6,
   "metadata": {},
   "outputs": [
    {
     "name": "stdout",
     "output_type": "stream",
     "text": [
      "random forest auc:  0.5283447398703894\n"
     ]
    }
   ],
   "source": [
    "rf = RandomForestClassifier(n_estimators=100, criterion='entropy', n_jobs=-1, max_depth=8)\n",
    "rf.fit(x_train_res, y_train_res)\n",
    "rf_pred = rf.predict_proba(x_val)[:, 1]\n",
    "print(\"random forest auc: \", roc_auc_score(y_val, rf_pred))"
   ]
  },
  {
   "cell_type": "code",
   "execution_count": 10,
   "metadata": {},
   "outputs": [
    {
     "name": "stdout",
     "output_type": "stream",
     "text": [
      "xgboost auc:  0.5279359215068742\n"
     ]
    }
   ],
   "source": [
    "xg = XGBClassifier(n_jobs=-1, n_estimators=300, max_depth=8)\n",
    "xg.fit(x_train_res, y_train_res)\n",
    "xg_pred = xg.predict_proba(x_val)[:, 1]\n",
    "print(\"xgboost auc: \", roc_auc_score(y_val, xg_pred))"
   ]
  },
  {
   "cell_type": "code",
   "execution_count": 8,
   "metadata": {},
   "outputs": [],
   "source": [
    "xg_test = xg.predict_proba(test)[:,1]\n",
    "# rf_test = rf.predict_proba(test)[:,1]"
   ]
  },
  {
   "cell_type": "code",
   "execution_count": 9,
   "metadata": {},
   "outputs": [],
   "source": [
    "ids = np.arange(1, test.shape[0]+1)\n",
    "xg_df = pd.DataFrame({\"Id\" : ids, \"Class\" : xg_test})\n",
    "rf_df = pd.DataFrame({\"Id\" : ids, \"Class\" : rf_test})\n",
    "xg_df.to_csv(\"out/xg_out.csv\", index=False)\n",
    "rf_df.to_csv(\"out/rf_out.csv\", index=False)"
   ]
  }
 ],
 "metadata": {
  "kernelspec": {
   "display_name": "Python 3",
   "language": "python",
   "name": "python3"
  },
  "language_info": {
   "codemirror_mode": {
    "name": "ipython",
    "version": 3
   },
   "file_extension": ".py",
   "mimetype": "text/x-python",
   "name": "python",
   "nbconvert_exporter": "python",
   "pygments_lexer": "ipython3",
   "version": "3.6.6"
  }
 },
 "nbformat": 4,
 "nbformat_minor": 2
}
