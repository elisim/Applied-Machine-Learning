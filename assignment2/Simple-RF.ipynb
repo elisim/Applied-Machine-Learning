{
 "cells": [
  {
   "cell_type": "markdown",
   "metadata": {},
   "source": [
    "Todo:\n",
    " 1. remove noisy samples: one option - remove rows with num of nan > trash\n",
    " 2. feature selection (annova, pca) \n",
    " 3. check for cat boost \n",
    " 4. check SMOTETomek and undersample & SMOTENC\n",
    " \n",
    "Must:\n",
    " 1. XGBOOST with missing\n",
    " 2. random oversample \n",
    " 3. Net\n",
    " 4. complete missing with classifier"
   ]
  },
  {
   "cell_type": "code",
   "execution_count": 1,
   "metadata": {},
   "outputs": [],
   "source": [
    "import pandas as pd\n",
    "import numpy as np\n",
    "from sklearn.impute import SimpleImputer\n",
    "from sklearn.model_selection import train_test_split\n",
    "from imblearn.over_sampling import SMOTE\n",
    "from sklearn.metrics import roc_auc_score\n",
    "from sklearn.ensemble import RandomForestClassifier\n",
    "from xgboost import XGBClassifier\n",
    "from sklearn.preprocessing import StandardScaler\n",
    "from imblearn.pipeline import Pipeline\n",
    "from sklearn.model_selection import GridSearchCV, StratifiedKFold\n",
    "from utils import *\n",
    "\n",
    "import warnings\n",
    "warnings.filterwarnings('ignore')"
   ]
  },
  {
   "cell_type": "code",
   "execution_count": 2,
   "metadata": {},
   "outputs": [
    {
     "name": "stdout",
     "output_type": "stream",
     "text": [
      "train.shape without missing rows = (30451, 49)\n",
      "class count:\n",
      " 0.0    29949\n",
      "1.0      502\n",
      "Name: Class, dtype: int64\n"
     ]
    }
   ],
   "source": [
    "##### load & clean data\n",
    "train, test = load_data()\n",
    "train = train.dropna(axis=0, how='all') # remove missing rows\n",
    "y_train = train.Class\n",
    "train = train.drop(columns='Class')\n",
    "\n",
    "columns_to_drop = ['Pre_L_Pupil_Day', 'T_L_Actual_AblDepth']\n",
    "train, test = remove_columns(train, test, columns_to_drop)\n",
    "\n",
    "print(\"train.shape without missing rows =\", train.shape)\n",
    "print(\"class count:\\n\", y_train.value_counts())"
   ]
  },
  {
   "cell_type": "code",
   "execution_count": 3,
   "metadata": {},
   "outputs": [],
   "source": [
    "##### add here new steps to preprocess\n",
    "preprocessing = Pipeline([\n",
    "                ('scaler', StandardScaler()),\n",
    "                ('imputer', SimpleImputer(missing_values=np.nan, strategy='mean'))\n",
    "                ])\n",
    "X_train, X_test = preprocess_data(train, test, preprocessing)\n",
    "X_train, X_val, y_train, y_val = train_test_split(X_train, y_train, test_size = 0.2, stratify=y_train)\n"
   ]
  },
  {
   "cell_type": "code",
   "execution_count": 4,
   "metadata": {},
   "outputs": [
    {
     "data": {
      "text/plain": [
       "dict_keys(['memory', 'steps', 'smote', 'rf', 'smote__k_neighbors', 'smote__kind', 'smote__m_neighbors', 'smote__n_jobs', 'smote__out_step', 'smote__random_state', 'smote__ratio', 'smote__sampling_strategy', 'smote__svm_estimator', 'rf__bootstrap', 'rf__class_weight', 'rf__criterion', 'rf__max_depth', 'rf__max_features', 'rf__max_leaf_nodes', 'rf__min_impurity_decrease', 'rf__min_impurity_split', 'rf__min_samples_leaf', 'rf__min_samples_split', 'rf__min_weight_fraction_leaf', 'rf__n_estimators', 'rf__n_jobs', 'rf__oob_score', 'rf__random_state', 'rf__verbose', 'rf__warm_start'])"
      ]
     },
     "execution_count": 4,
     "metadata": {},
     "output_type": "execute_result"
    }
   ],
   "source": [
    "##### add here new steps before predict (TODO: undersample)\n",
    "evaluation =  Pipeline([\n",
    "                ('smote', SMOTE(random_state=42, ratio=1, n_jobs=-1, k_neighbors=3)),\n",
    "                ('rf', RandomForestClassifier(n_estimators=50, n_jobs=-1, min_samples_split=2, max_depth=5))\n",
    "                ])\n",
    "evaluation.get_params().keys()"
   ]
  },
  {
   "cell_type": "code",
   "execution_count": 5,
   "metadata": {},
   "outputs": [],
   "source": [
    "#### Cross Validation\n",
    "\n",
    "n_splits = 10 # number of folds (stratified KFold)\n",
    "\n",
    "### add here new hyperparameters\n",
    "rf_hyperparams = {\n",
    "    'rf__n_estimators': np.arange(start=100, stop=400, step=20),\n",
    "    'rf__max_depth': list(np.arange(5,30,5)) + [None],\n",
    "    'rf__min_samples_split': [2, 5, 10]\n",
    "}\n",
    "smote_hyperparams = {\n",
    "    # 'smote__k_neighbors': np.arange(2,10)\n",
    "    # 'smote__ratio': ??? TODO\n",
    "}\n",
    "\n",
    "gs = GridSearchCV(evaluation, \n",
    "                  param_grid={**rf_hyperparams, **smote_hyperparams},\n",
    "                  scoring='roc_auc',\n",
    "                  cv=StratifiedKFold(n_splits=n_splits),\n",
    "                  n_jobs=-1)\n",
    "\n",
    "gs.fit(X_train, y_train)  "
   ]
  },
  {
   "cell_type": "code",
   "execution_count": 6,
   "metadata": {},
   "outputs": [
    {
     "name": "stdout",
     "output_type": "stream",
     "text": [
      "auc score on x_val:\n",
      "\t0.5489\n"
     ]
    }
   ],
   "source": [
    "gs.fit(X_train, y_train)  \n",
    "# print('best params:\\n\\t{}'.format(gs.best_params_))\n",
    "# print('best auc score:\\n\\t{:.4f}'.format(gs.best_score_))\n",
    "\n",
    "x_val_pred = gs.predict_proba(X_val)[:,1]\n",
    "print('auc score on x_val:\\n\\t{:.4f}'.format(roc_auc_score(y_val, x_val_pred)))\n",
    "pred = gs.predict_proba(X_test)[:,1]\n"
   ]
  },
  {
   "cell_type": "code",
   "execution_count": 7,
   "metadata": {},
   "outputs": [],
   "source": [
    "df = ensemble_with_rokah(pred)"
   ]
  },
  {
   "cell_type": "code",
   "execution_count": 8,
   "metadata": {},
   "outputs": [],
   "source": [
    "to_file(df, \"lol\")"
   ]
  },
  {
   "cell_type": "code",
   "execution_count": null,
   "metadata": {},
   "outputs": [],
   "source": []
  }
 ],
 "metadata": {
  "kernelspec": {
   "display_name": "Python 3",
   "language": "python",
   "name": "python3"
  },
  "language_info": {
   "codemirror_mode": {
    "name": "ipython",
    "version": 3
   },
   "file_extension": ".py",
   "mimetype": "text/x-python",
   "name": "python",
   "nbconvert_exporter": "python",
   "pygments_lexer": "ipython3",
   "version": "3.6.7"
  }
 },
 "nbformat": 4,
 "nbformat_minor": 2
}
