{
 "cells": [
  {
   "cell_type": "code",
   "execution_count": 12,
   "metadata": {},
   "outputs": [
    {
     "name": "stdout",
     "output_type": "stream",
     "text": [
      "train.shape = (30451, 52)\n",
      "clsses counts:\n",
      "class = 0: 29949 98.3514498702834\n",
      "class = 1: 502 1.6485501297165939\n"
     ]
    }
   ],
   "source": [
    "############# READ DATA\n",
    "import pandas as pd, numpy as np\n",
    "TRAIN_PATH = 'input/saftey_efficay_myopiaTrain.csv'\n",
    "TEST_PATH = 'input/saftey_efficay_myopiaTest.csv'\n",
    "\n",
    "train = pd.read_csv(TRAIN_PATH, low_memory=False)\n",
    "train = train.dropna(axis=0, how='all') # remove missing rows\n",
    "print(\"train.shape =\", train.shape)\n",
    "\n",
    "y = train['Class']\n",
    "classes_count = y.value_counts()\n",
    "print('clsses counts:\\nclass = 0: {} {}\\nclass = 1: {} {}'.format(classes_count[0], 100*classes_count[0]/train.shape[0], classes_count[1], 100*classes_count[1]/train.shape[0]))\n"
   ]
  },
  {
   "cell_type": "code",
   "execution_count": 2,
   "metadata": {},
   "outputs": [],
   "source": [
    "#### preprocess\n",
    "X = train.drop(columns='Class')\n",
    "dummies = pd.get_dummies(X)\n",
    "X=(dummies-dummies.min())/(dummies.max()-dummies.min())\n",
    "X = X.fillna(value=0)\n",
    "\n",
    "from sklearn.model_selection import train_test_split\n",
    "X_train, X_test, y_train, y_test = train_test_split(X, y, test_size=0.33, random_state=42)\n",
    "\n",
    "\n",
    "\n"
   ]
  },
  {
   "cell_type": "code",
   "execution_count": 18,
   "metadata": {},
   "outputs": [],
   "source": [
    "from sklearn.ensemble import RandomForestClassifier\n",
    "foo = RandomForestClassifier(n_estimators=100, criterion='entropy')\n",
    "foo.fit(X_train, y_train)\n",
    "pred = foo.predict(X_test)\n",
    "\n"
   ]
  },
  {
   "cell_type": "code",
   "execution_count": 3,
   "metadata": {},
   "outputs": [
    {
     "data": {
      "text/plain": [
       "XGBClassifier(base_score=0.5, booster='gbtree', colsample_bylevel=1,\n",
       "       colsample_bytree=1, gamma=0, learning_rate=0.1, max_delta_step=0,\n",
       "       max_depth=3, min_child_weight=1, missing=None, n_estimators=100,\n",
       "       n_jobs=1, nthread=None, objective='binary:logistic', random_state=0,\n",
       "       reg_alpha=0, reg_lambda=1, scale_pos_weight=1, seed=None,\n",
       "       silent=True, subsample=1)"
      ]
     },
     "execution_count": 3,
     "metadata": {},
     "output_type": "execute_result"
    }
   ],
   "source": [
    "from xgboost import XGBClassifier\n",
    "model = XGBClassifier()\n",
    "model.fit(X_train, y_train)"
   ]
  },
  {
   "cell_type": "code",
   "execution_count": 9,
   "metadata": {},
   "outputs": [
    {
     "name": "stderr",
     "output_type": "stream",
     "text": [
      "C:\\Users\\Eli\\Anaconda3\\lib\\site-packages\\sklearn\\preprocessing\\label.py:151: DeprecationWarning: The truth value of an empty array is ambiguous. Returning False, but in future this will result in an error. Use `array.size > 0` to check that an array is not empty.\n",
      "  if diff:\n"
     ]
    },
    {
     "data": {
      "text/plain": [
       "0"
      ]
     },
     "execution_count": 9,
     "metadata": {},
     "output_type": "execute_result"
    }
   ],
   "source": [
    "y_pred = model.predict(X_test)\n",
    "ans = y_pred > 0\n",
    "sum(ans)"
   ]
  },
  {
   "cell_type": "code",
   "execution_count": null,
   "metadata": {},
   "outputs": [],
   "source": []
  }
 ],
 "metadata": {
  "kernelspec": {
   "display_name": "Python 3",
   "language": "python",
   "name": "python3"
  },
  "language_info": {
   "codemirror_mode": {
    "name": "ipython",
    "version": 3
   },
   "file_extension": ".py",
   "mimetype": "text/x-python",
   "name": "python",
   "nbconvert_exporter": "python",
   "pygments_lexer": "ipython3",
   "version": "3.6.7"
  }
 },
 "nbformat": 4,
 "nbformat_minor": 2
}
