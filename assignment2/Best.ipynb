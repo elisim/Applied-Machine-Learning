{
 "cells": [
  {
   "cell_type": "code",
   "execution_count": 6,
   "metadata": {},
   "outputs": [],
   "source": [
    "import pandas as pd\n",
    "import numpy as np\n",
    "from sklearn.impute import SimpleImputer\n",
    "from sklearn.model_selection import train_test_split\n",
    "from imblearn.over_sampling import SMOTE\n",
    "from sklearn.metrics import roc_auc_score\n",
    "from sklearn.ensemble import RandomForestClassifier\n",
    "from xgboost import XGBClassifier\n",
    "from sklearn.preprocessing import StandardScaler\n",
    "from imblearn.pipeline import Pipeline\n",
    "from sklearn.model_selection import GridSearchCV, StratifiedKFold\n",
    "from utils import *\n",
    "from imblearn.under_sampling import RandomUnderSampler\n",
    "from fancyimpute import KNN\n",
    "\n",
    "import warnings\n",
    "warnings.filterwarnings('ignore')"
   ]
  },
  {
   "cell_type": "code",
   "execution_count": 8,
   "metadata": {},
   "outputs": [
    {
     "name": "stdout",
     "output_type": "stream",
     "text": [
      "train.shape without missing rows = (30451, 51)\n",
      "class count:\n",
      " 0.0    29949\n",
      "1.0      502\n",
      "Name: Class, dtype: int64\n",
      "Imputing row 1/42903 with 10 missing, elapsed time: 827.372\n",
      "Imputing row 10001/42903 with 10 missing, elapsed time: 851.094\n",
      "Imputing row 20001/42903 with 11 missing, elapsed time: 869.525\n",
      "Imputing row 30001/42903 with 14 missing, elapsed time: 887.584\n",
      "Imputing row 40001/42903 with 18 missing, elapsed time: 905.441\n",
      "auc score on x_val:\n",
      "\t0.6736\n",
      "Wall time: 15min 15s\n"
     ]
    }
   ],
   "source": [
    "%%time\n",
    "##### load & clean data\n",
    "train, test = load_data()\n",
    "train = train.dropna(axis=0, how='all') # remove missing rows\n",
    "y_all = train.Class\n",
    "train = train.drop(columns='Class')\n",
    "\n",
    "#columns_to_drop = ['Pre_L_Pupil_Day', 'T_L_Actual_AblDepth']\n",
    "#train, test = remove_columns(train, test, columns_to_drop)\n",
    "\n",
    "print(\"train.shape without missing rows =\", train.shape)\n",
    "print(\"class count:\\n\", y_all.value_counts())\n",
    "##### add here new steps before predict (TODO: undersample)\n",
    "##### add here new steps to preprocess\n",
    "preprocessing = Pipeline([\n",
    "                ('scaler', StandardScaler()),\n",
    "                ('knn-imputation', KNN(k=5, print_interval=10000))\n",
    "                ])\n",
    "X_all, X_test = preprocess_data(train, test, preprocessing)\n",
    "X_train, X_val, y_train, y_val = train_test_split(X_all, y_all, test_size = 0.2, stratify=y_all, random_state=42)\n",
    "\n",
    "xg = XGBClassifier(n_estimators=40, \n",
    "                   tree_method='gpu_exact', \n",
    "                   predictor='gpu_predictor', \n",
    "                   random_state=52, \n",
    "                   scale_pos_weight=1.2,\n",
    "                   max_depth=4, \n",
    "                   n_jobs=-1)\n",
    "\n",
    "evaluation =  Pipeline([\n",
    "#                 ('smote', SMOTE(random_state=42, ratio=1, n_jobs=-1, k_neighbors=3)),\n",
    "#                 ('random_oversample', RandomOverSampler()),\n",
    "                    ('xg', xg)\n",
    "               # ('select_from_model',SelectFromModel(selection_model, threshold=0.071, prefit=True))\n",
    "                ])\n",
    "# evaluation.get_params().keys()\n",
    "gs = evaluation\n",
    "gs.fit(X_train, y_train)  \n",
    "# print('best params:\\n\\t{}'.format(gs.best_params_))\n",
    "# print('best auc score:\\n\\t{:.4f}'.format(gs.best_score_))\n",
    "\n",
    "x_val_pred = gs.predict_proba(X_val)[:,1]\n",
    "print('auc score on x_val:\\n\\t{:.4f}'.format(roc_auc_score(y_val, x_val_pred)))\n",
    "gs.fit(X_all, y_all)\n",
    "pred = gs.predict_proba(X_test)[:,1]\n",
    "# to_file(pred, \"tal_test_k5\")"
   ]
  }
 ],
 "metadata": {
  "kernelspec": {
   "display_name": "Python 3",
   "language": "python",
   "name": "python3"
  },
  "language_info": {
   "codemirror_mode": {
    "name": "ipython",
    "version": 3
   },
   "file_extension": ".py",
   "mimetype": "text/x-python",
   "name": "python",
   "nbconvert_exporter": "python",
   "pygments_lexer": "ipython3",
   "version": "3.6.7"
  }
 },
 "nbformat": 4,
 "nbformat_minor": 2
}
