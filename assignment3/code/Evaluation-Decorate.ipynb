{
 "cells": [
  {
   "cell_type": "code",
   "execution_count": 13,
   "metadata": {},
   "outputs": [],
   "source": [
    "import numpy as np\n",
    "import pandas as pd\n",
    "from decorate import DecorateClassifier \n",
    "from data_generation_methods import *\n",
    "from datasets import *\n",
    "from sklearn.model_selection import StratifiedKFold\n",
    "from sklearn.metrics import accuracy_score\n",
    "from sklearn import preprocessing\n",
    "\n",
    "np.warnings.filterwarnings('ignore')"
   ]
  },
  {
   "cell_type": "code",
   "execution_count": 14,
   "metadata": {},
   "outputs": [
    {
     "ename": "SyntaxError",
     "evalue": "invalid syntax (<ipython-input-14-2f24e7d34e25>, line 10)",
     "output_type": "error",
     "traceback": [
      "\u001b[0;36m  File \u001b[0;32m\"<ipython-input-14-2f24e7d34e25>\"\u001b[0;36m, line \u001b[0;32m10\u001b[0m\n\u001b[0;31m    NurseryDataset(),\u001b[0m\n\u001b[0m                 ^\u001b[0m\n\u001b[0;31mSyntaxError\u001b[0m\u001b[0;31m:\u001b[0m invalid syntax\n"
     ]
    }
   ],
   "source": [
    "datasets = [\n",
    "           LymphographyDataset(),\n",
    "           AbaloneDataset(),\n",
    "           BalanceScaleDataset(),\n",
    "           LetterRecognitionDataset(),\n",
    "           ContraceptiveMethodChoiceDataset(),\n",
    "           ChessDataset(),\n",
    "           CarDataset(),\n",
    "           GlassDataset(),\n",
    "          NurseryDataset(),\n",
    "           HayesRothDataset()\n",
    "]"
   ]
  },
  {
   "cell_type": "code",
   "execution_count": 12,
   "metadata": {},
   "outputs": [
    {
     "name": "stdout",
     "output_type": "stream",
     "text": [
      "Done HayesRoth, accuracy = 0.9933333333333334\n",
      "\n",
      "{'HayesRoth': 0.9933333333333334}\n"
     ]
    }
   ],
   "source": [
    "acc_avgs = {} # map between dataset -> 10-fold accuracy evaluation \n",
    "skf = StratifiedKFold(n_splits=10)\n",
    "\n",
    "for dataset in datasets:    \n",
    "    dec = DecorateClassifier(n_estimators=100, n_iter=50, art_factor=0.1)\n",
    "    acc_avg = 0 # accuracy average over all folds\n",
    "    X, y = dataset.get_X_y()\n",
    "    \n",
    "    for train_index, test_index in skf.split(X,y):\n",
    "        X_train, X_test = X.iloc[train_index], X.iloc[test_index]\n",
    "        y_train, y_test = y[train_index], y[test_index]\n",
    "        dec.fit(X_train, y_train)        \n",
    "        y_pred = dec.predict(X_test)\n",
    "        acc_avg += accuracy_score(y_pred, y_test)\n",
    "        \n",
    "    ds_name = dataset.__class__.__name__.replace('Dataset', '')\n",
    "    acc_avgs[ds_name] = acc_avg/10\n",
    "    print(f\"Done {ds_name}, accuracy = {acc_avgs[ds_name]}\")\n",
    "\n",
    "print()\n",
    "print(acc_avgs)    "
   ]
  }
 ],
 "metadata": {
  "kernelspec": {
   "display_name": "Python 3",
   "language": "python",
   "name": "python3"
  },
  "language_info": {
   "codemirror_mode": {
    "name": "ipython",
    "version": 3
   },
   "file_extension": ".py",
   "mimetype": "text/x-python",
   "name": "python",
   "nbconvert_exporter": "python",
   "pygments_lexer": "ipython3",
   "version": "3.7.1"
  }
 },
 "nbformat": 4,
 "nbformat_minor": 2
}
