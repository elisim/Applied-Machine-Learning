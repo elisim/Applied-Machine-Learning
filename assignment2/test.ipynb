{
 "cells": [
  {
   "cell_type": "markdown",
   "metadata": {},
   "source": [
    " Todo:\n",
    " 1. check the order of the preprocess. what to do first === DONE ===\n",
    " 2. create pipeline \n",
    " 3. hyper param search\n",
    " 4. after findind hyper-params, add fit on all data (include val) \n",
    " 5. remove noisy samples: one option - remove rows with num of nan > trash\n",
    " 6. feature selection (annova, pca) \n",
    " 7. check for cat boost \n",
    " 8. check SMOTETomek and undersample"
   ]
  },
  {
   "cell_type": "code",
   "execution_count": 42,
   "metadata": {},
   "outputs": [],
   "source": [
    "import pandas as pd\n",
    "import numpy as np\n",
    "from sklearn.impute import SimpleImputer\n",
    "from sklearn.model_selection import train_test_split\n",
    "from imblearn.over_sampling import SMOTE\n",
    "from sklearn.metrics import roc_auc_score\n",
    "from sklearn.ensemble import RandomForestClassifier\n",
    "from xgboost import XGBClassifier\n",
    "from sklearn.preprocessing import StandardScaler\n",
    "from copy import copy\n",
    "from sklearn.pipeline import Pipeline\n",
    "import warnings\n",
    "warnings.filterwarnings('ignore')"
   ]
  },
  {
   "cell_type": "code",
   "execution_count": 43,
   "metadata": {},
   "outputs": [],
   "source": [
    "def read_train_test():\n",
    "    TRAIN_PATH = 'input/saftey_efficay_myopiaTrain.csv'\n",
    "    TEST_PATH = 'input/saftey_efficay_myopiaTest.csv'\n",
    "    train = pd.read_csv(TRAIN_PATH, low_memory=False)\n",
    "    test = pd.read_csv(TEST_PATH, low_memory=False)\n",
    "    return train,test\n",
    "\n",
    "def remove_columns(train, test, columns_to_remove):\n",
    "    train = train.drop(columns=columns_to_remove)\n",
    "    test = test.drop(columns=columns_to_remove)\n",
    "    return train, test\n",
    "\n",
    "def preprocess_data(train, test, pipeline):\n",
    "    \"\"\"\n",
    "    pipleline - pipeline to fit_transform the concat dummies before spliting to train & test\n",
    "    return: train & train dummies after pipeline fit_transform\n",
    "    \"\"\"\n",
    "    n_train = train.shape[0]\n",
    "    concat = pd.concat(objs=[train, test], axis=0, sort=False)\n",
    "    concat_dummies = pd.get_dummies(concat)\n",
    "    concat_dummies = pipeline.fit_transform(concat_dummies)\n",
    "    train_dummies = copy(concat_dummies[:n_train])\n",
    "    test_dummies = copy(concat_dummies[n_train:])\n",
    "    return train_dummies, test_dummies\n"
   ]
  },
  {
   "cell_type": "code",
   "execution_count": 44,
   "metadata": {},
   "outputs": [
    {
     "name": "stdout",
     "output_type": "stream",
     "text": [
      "train.shape without missing rows = (30451, 49)\n",
      "class count:\n",
      " 0.0    29949\n",
      "1.0      502\n",
      "Name: Class, dtype: int64\n"
     ]
    }
   ],
   "source": [
    "train, test = read_train_test()\n",
    "train = train.dropna(axis=0, how='all') # remove missing rows\n",
    "y_train = train.Class\n",
    "train = train.drop(columns='Class')\n",
    "\n",
    "columns_to_drop = ['Pre_L_Pupil_Day', 'T_L_Actual_AblDepth']\n",
    "train, test = remove_columns(train, test, columns_to_drop)\n",
    "\n",
    "print(\"train.shape without missing rows =\", train.shape)\n",
    "print(\"class count:\\n\", y_train.value_counts())"
   ]
  },
  {
   "cell_type": "code",
   "execution_count": 45,
   "metadata": {},
   "outputs": [],
   "source": [
    "##### add here new steps to preprocess\n",
    "preprocessing = Pipeline([\n",
    "                ('scaler', StandardScaler()),\n",
    "                ('imputer', SimpleImputer(missing_values=np.nan, strategy='mean'))\n",
    "                ])\n",
    "train_dummies, test_dummies = preprocess_data(train, test, preprocessing)"
   ]
  },
  {
   "cell_type": "code",
   "execution_count": 39,
   "metadata": {},
   "outputs": [],
   "source": [
    "x_train, x_val, y_train, y_val = train_test_split(train_dummies, y_train,\n",
    "                                                  test_size=0.2, \n",
    "                                                  random_state=42, \n",
    "                                                  stratify=y_train)\n",
    "\n",
    "sm = SMOTE(random_state=42, ratio = 1.0, n_jobs=-1)\n",
    "x_train_res, y_train_res = sm.fit_sample(x_train, y_train)  "
   ]
  },
  {
   "cell_type": "code",
   "execution_count": 40,
   "metadata": {},
   "outputs": [
    {
     "name": "stdout",
     "output_type": "stream",
     "text": [
      "random forest auc:  0.5788499415790352\n"
     ]
    }
   ],
   "source": [
    "rf = RandomForestClassifier(n_estimators=100, criterion='entropy', n_jobs=-1, max_depth=8)\n",
    "rf.fit(x_train_res, y_train_res)\n",
    "rf_pred = rf.predict_proba(x_val)[:, 1]\n",
    "print(\"random forest auc: \", roc_auc_score(y_val, rf_pred))"
   ]
  },
  {
   "cell_type": "code",
   "execution_count": 41,
   "metadata": {},
   "outputs": [
    {
     "name": "stdout",
     "output_type": "stream",
     "text": [
      "xgboost auc:  0.5471874478384243\n"
     ]
    }
   ],
   "source": [
    "xg = XGBClassifier(n_jobs=-1, n_estimators=300, max_depth=8)\n",
    "xg.fit(x_train_res, y_train_res)\n",
    "xg_pred = xg.predict_proba(x_val)[:, 1]\n",
    "print(\"xgboost auc: \", roc_auc_score(y_val, xg_pred))"
   ]
  },
  {
   "cell_type": "code",
   "execution_count": 8,
   "metadata": {},
   "outputs": [],
   "source": [
    "xg_test = xg.predict_proba(test)[:,1]\n",
    "# rf_test = rf.predict_proba(test)[:,1]"
   ]
  },
  {
   "cell_type": "code",
   "execution_count": 9,
   "metadata": {},
   "outputs": [],
   "source": [
    "ids = np.arange(1, test.shape[0]+1)\n",
    "xg_df = pd.DataFrame({\"Id\" : ids, \"Class\" : xg_test})\n",
    "rf_df = pd.DataFrame({\"Id\" : ids, \"Class\" : rf_test})\n",
    "xg_df.to_csv(\"out/xg_out.csv\", index=False)\n",
    "rf_df.to_csv(\"out/rf_out.csv\", index=False)"
   ]
  }
 ],
 "metadata": {
  "kernelspec": {
   "display_name": "Python 3",
   "language": "python",
   "name": "python3"
  },
  "language_info": {
   "codemirror_mode": {
    "name": "ipython",
    "version": 3
   },
   "file_extension": ".py",
   "mimetype": "text/x-python",
   "name": "python",
   "nbconvert_exporter": "python",
   "pygments_lexer": "ipython3",
   "version": "3.6.7"
  }
 },
 "nbformat": 4,
 "nbformat_minor": 2
}
