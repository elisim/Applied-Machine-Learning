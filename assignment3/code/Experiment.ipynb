{
 "cells": [
  {
   "cell_type": "code",
   "execution_count": 1,
   "metadata": {},
   "outputs": [
    {
     "name": "stderr",
     "output_type": "stream",
     "text": [
      "C:\\Users\\Eli Simhayev\\Anaconda3\\lib\\site-packages\\sklearn\\ensemble\\weight_boosting.py:29: DeprecationWarning: numpy.core.umath_tests is an internal NumPy module and should not be imported. It will be removed in a future NumPy release.\n",
      "  from numpy.core.umath_tests import inner1d\n"
     ]
    }
   ],
   "source": [
    "import numpy as np\n",
    "import pandas as pd\n",
    "from sklearn.datasets import load_iris\n",
    "from decorate import DecorateClassifier \n",
    "from data_generation_methods.decorate_method import DecorateDataGeneration\n",
    "from datasets import *\n",
    "import random\n",
    "from decorate import DecorateClassifier\n",
    "from sklearn.ensemble import RandomForestClassifier\n",
    "\n",
    "TRAIN_PATH = 'data/abalone/abalone.data'\n",
    "abalone = pd.read_csv(TRAIN_PATH, names = [\"col\" + str(i) for i in range(8)] + ['target']) \n",
    "\n"
   ]
  },
  {
   "cell_type": "code",
   "execution_count": 2,
   "metadata": {},
   "outputs": [],
   "source": [
    "def get_x_y():\n",
    "    y = abalone.target\n",
    "    X = abalone.drop(columns='target', axis=1)\n",
    "    y_rand = np.random.randint(low=0,high=2,size=len(y))\n",
    "    y = y_rand\n",
    "    return X,y"
   ]
  },
  {
   "cell_type": "code",
   "execution_count": 3,
   "metadata": {},
   "outputs": [],
   "source": [
    "### test decorate method\n",
    "# X, y = get_x_y()\n",
    "# y = np.random.rand(len(X))\n",
    "# y = np.vstack((y.T, (1-y).T)).T\n",
    "# def test_get():\n",
    "#     gen = DecorateDataGeneration()\n",
    "#     X_art = gen.gen_data(X, art_factor=1)\n",
    "#     y_art = gen.label_data(X_art, y)\n",
    "#     return X_art, y_art\n",
    "# X_art, y_art = test_get()\n"
   ]
  },
  {
   "cell_type": "code",
   "execution_count": 4,
   "metadata": {},
   "outputs": [],
   "source": [
    "X, y = get_x_y()\n",
    "X = pd.get_dummies(X)"
   ]
  },
  {
   "cell_type": "code",
   "execution_count": 12,
   "metadata": {},
   "outputs": [],
   "source": [
    "dec = DecorateClassifier(n_estimators=10, n_iter=50, art_factor=10)\n",
    "dec.fit(X,y)\n",
    "pred = dec.predict(np.random.rand(X.shape[0], X.shape[1]))"
   ]
  },
  {
   "cell_type": "code",
   "execution_count": 13,
   "metadata": {},
   "outputs": [
    {
     "name": "stdout",
     "output_type": "stream",
     "text": [
      "error: 0.51\n"
     ]
    }
   ],
   "source": [
    "print(\"error: {:.2f}\".format(sum(pred == y)/len(X)))"
   ]
  }
 ],
 "metadata": {
  "kernelspec": {
   "display_name": "Python 3",
   "language": "python",
   "name": "python3"
  },
  "language_info": {
   "codemirror_mode": {
    "name": "ipython",
    "version": 3
   },
   "file_extension": ".py",
   "mimetype": "text/x-python",
   "name": "python",
   "nbconvert_exporter": "python",
   "pygments_lexer": "ipython3",
   "version": "3.7.0"
  }
 },
 "nbformat": 4,
 "nbformat_minor": 2
}
