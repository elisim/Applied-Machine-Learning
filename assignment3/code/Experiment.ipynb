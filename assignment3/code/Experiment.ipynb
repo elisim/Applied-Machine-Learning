{
 "cells": [
  {
   "cell_type": "code",
   "execution_count": 43,
   "metadata": {},
   "outputs": [],
   "source": [
    "import numpy as np\n",
    "import pandas as pd\n",
    "from sklearn.datasets import load_iris\n",
    "from decorate import DecorateClassifier \n",
    "from data_generation_methods.decorate_method import DecorateDataGeneration\n",
    "from datasets import *\n",
    "import random\n",
    "from decorate import DecorateClassifier\n",
    "from sklearn.ensemble import RandomForestClassifier\n",
    "from sklearn import preprocessing\n",
    "np.warnings.filterwarnings('ignore')\n",
    "\n",
    "TRAIN_PATH = 'data/abalone/abalone.data'\n",
    "abalone = pd.read_csv(TRAIN_PATH, names = [\"col\" + str(i) for i in range(8)] + ['target']) \n",
    "\n"
   ]
  },
  {
   "cell_type": "code",
   "execution_count": 44,
   "metadata": {},
   "outputs": [],
   "source": [
    "def get_x_y():\n",
    "    le = preprocessing.LabelEncoder() \n",
    "    y = abalone.target\n",
    "    X = abalone.drop(columns='target', axis=1)\n",
    "    return pd.get_dummies(X), le.fit_transform(y), le\n",
    "X, y, le = get_x_y()"
   ]
  },
  {
   "cell_type": "code",
   "execution_count": 45,
   "metadata": {},
   "outputs": [],
   "source": [
    "rf = RandomForestClassifier()\n",
    "rf.fit(X,y)\n",
    "y_rf = rf.predict_proba(X)\n",
    "\n",
    "## test decorate method\n",
    "def test_get():\n",
    "    gen = DecorateDataGeneration()\n",
    "    X_art = gen.gen_data(X, art_factor=1)\n",
    "    y_art = gen.label_data(X_art, y_rf)\n",
    "    return X_art, y_art\n",
    "\n",
    "X_art, y_art = test_get()"
   ]
  },
  {
   "cell_type": "code",
   "execution_count": null,
   "metadata": {},
   "outputs": [],
   "source": [
    "dec = DecorateClassifier(n_estimators=100, n_iter=500, art_factor=10)\n",
    "dec.fit(X,y)"
   ]
  },
  {
   "cell_type": "code",
   "execution_count": null,
   "metadata": {},
   "outputs": [],
   "source": [
    "pred = dec.predict(np.random.rand(X.shape[0], X.shape[1]))\n",
    "print(\"accuracy: {:.2f}\".format(sum(pred == y)/len(X)))\n",
    "print(\"ensemble size: \", len(dec.ensemble_))"
   ]
  }
 ],
 "metadata": {
  "kernelspec": {
   "display_name": "Python 3",
   "language": "python",
   "name": "python3"
  },
  "language_info": {
   "codemirror_mode": {
    "name": "ipython",
    "version": 3
   },
   "file_extension": ".py",
   "mimetype": "text/x-python",
   "name": "python",
   "nbconvert_exporter": "python",
   "pygments_lexer": "ipython3",
   "version": "3.6.7"
  }
 },
 "nbformat": 4,
 "nbformat_minor": 2
}
